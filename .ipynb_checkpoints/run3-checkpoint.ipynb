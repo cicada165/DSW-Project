{
 "cells": [
  {
   "cell_type": "code",
   "execution_count": null,
   "metadata": {},
   "outputs": [],
   "source": [
    "# We uses median to seperate into 0:below median 1:above median\n",
    "print(df[' shares'].median())\n",
    "df['popularity'] = df[' shares'].apply(lambda x: 0 if x <1400 else 1) "
   ]
  },
  {
   "cell_type": "code",
   "execution_count": 27,
   "metadata": {
    "execution": {
     "iopub.execute_input": "2022-05-16T21:33:26.485721Z",
     "iopub.status.busy": "2022-05-16T21:33:26.484858Z",
     "iopub.status.idle": "2022-05-16T21:33:27.834548Z",
     "shell.execute_reply": "2022-05-16T21:33:27.833555Z",
     "shell.execute_reply.started": "2022-05-16T21:33:26.485599Z"
    },
    "id": "CVegFJdFR7gv",
    "outputId": "8fc6cf2a-eb6f-4414-9e06-580745825e02"
   },
   "outputs": [],
   "source": [
    "import pandas as pd\n",
    "import numpy as np\n",
    "%matplotlib inline\n",
    "import matplotlib.pyplot as plt\n",
    "import seaborn as sns\n",
    "import os\n",
    "import datetime\n",
    "\n",
    "from sklearn.tree import DecisionTreeClassifier \n",
    "from sklearn.model_selection import train_test_split \n",
    "from sklearn.model_selection import KFold\n",
    "from sklearn.preprocessing import LabelEncoder\n",
    "from sklearn import metrics \n",
    "from sklearn.metrics import confusion_matrix\n",
    "from sklearn.tree import export_graphviz\n",
    "from six import StringIO\n",
    "from IPython.display import Image \n",
    "#import pydot\n",
    "#from pydot import graph_from_dot_data\n",
    "from sklearn.ensemble import RandomForestClassifier\n",
    "from sklearn.metrics import roc_curve, auc\n",
    "#import plotly.graph_objs as go\n",
    "from sklearn import preprocessing\n",
    "from sklearn.preprocessing import RobustScaler\n",
    "from sklearn.preprocessing import MinMaxScaler\n",
    "from IPython.display import display, Math, Markdown, Latex, display_markdown\n",
    "from matplotlib.pyplot import figure\n",
    "from sklearn.model_selection import KFold\n",
    "from sklearn import preprocessing\n",
    "from sklearn.linear_model import LogisticRegression\n",
    "from sklearn import metrics\n",
    "from sklearn.metrics import roc_auc_score\n",
    "from sklearn import preprocessing\n",
    "from sklearn.preprocessing import MinMaxScaler\n",
    "from sklearn.metrics import confusion_matrix\n",
    "from sklearn.metrics import roc_auc_score\n",
    "from sklearn.metrics import roc_curve\n",
    "from sklearn.naive_bayes import GaussianNB\n",
    "from sklearn.neighbors import KNeighborsClassifier\n",
    "from sklearn.tree import DecisionTreeClassifier\n",
    "from sklearn.ensemble import RandomForestClassifier\n",
    "from sklearn.svm import SVC\n",
    "from sklearn.model_selection import RandomizedSearchCV\n",
    "from IPython.display import Markdown, display \n",
    "def printmd(string):  \n",
    "    display(Markdown(string)) \n",
    "from sklearn.metrics import confusion_matrix\n",
    "import warnings\n",
    "from sklearn.exceptions import DataConversionWarning\n",
    "warnings.filterwarnings(action='ignore', category=DataConversionWarning)\n",
    "from scipy import stats\n"
   ]
  },
  {
   "cell_type": "markdown",
   "metadata": {
    "id": "TvpvEKBIR7gw"
   },
   "source": [
    "## EDA"
   ]
  },
  {
   "cell_type": "markdown",
   "metadata": {},
   "source": [
    "### Cleaning"
   ]
  },
  {
   "cell_type": "code",
   "execution_count": 28,
   "metadata": {
    "execution": {
     "iopub.execute_input": "2022-05-16T21:33:27.836320Z",
     "iopub.status.busy": "2022-05-16T21:33:27.836038Z",
     "iopub.status.idle": "2022-05-16T21:33:28.542655Z",
     "shell.execute_reply": "2022-05-16T21:33:28.541656Z",
     "shell.execute_reply.started": "2022-05-16T21:33:27.836291Z"
    },
    "id": "guI3zeHhR7gw",
    "outputId": "8947b3f6-1a45-4596-e1ea-b425efd762de"
   },
   "outputs": [
    {
     "name": "stdout",
     "output_type": "stream",
     "text": [
      "(39644, 61)\n",
      "(39644, 61)\n",
      "(38463, 61)\n"
     ]
    }
   ],
   "source": [
    "news = pd.read_csv(\"OnlineNewsPopularity.csv\")\n",
    "print(news.shape)\n",
    "#Check Nullity\n",
    "news.isnull().sum() #It appears that the data has no null values\n",
    "#For ' n_tokens_content', if it is 0, it means that the artitle is empty, therefore, let's remove those rows\n",
    "print(news.shape)\n",
    "news = news[news[' n_tokens_content'] != 0]\n",
    "print(news.shape)\n",
    "#Drop columns that are obbiously not going to be useful\n",
    "news.drop(['url', ' timedelta', ' n_non_stop_words', ' n_non_stop_unique_tokens'], axis=1, inplace=True)\n",
    "#removing white spaces from variable names\n",
    "news.columns = news.columns.str.lstrip()"
   ]
  },
  {
   "cell_type": "markdown",
   "metadata": {
    "id": "-lyeCtyAR7gz"
   },
   "source": [
    "### Feature Engineering"
   ]
  },
  {
   "cell_type": "code",
   "execution_count": 29,
   "metadata": {
    "execution": {
     "iopub.execute_input": "2022-05-16T21:33:28.646725Z",
     "iopub.status.busy": "2022-05-16T21:33:28.646295Z",
     "iopub.status.idle": "2022-05-16T21:33:28.672649Z",
     "shell.execute_reply": "2022-05-16T21:33:28.671743Z",
     "shell.execute_reply.started": "2022-05-16T21:33:28.646692Z"
    },
    "executionInfo": {
     "elapsed": 477,
     "status": "error",
     "timestamp": 1623015884773,
     "user": {
      "displayName": "Qəhrəman Əkbər",
      "photoUrl": "https://lh3.googleusercontent.com/a-/AOh14GhskwHJ1T0tDgDMNQpEXFuJmkA_jwCpn1wWBqSvZg=s64",
      "userId": "02488542056402139681"
     },
     "user_tz": -120
    },
    "id": "9-jQvitUR7gz",
    "outputId": "40c37c4f-36c0-4770-8146-4de85381649f"
   },
   "outputs": [],
   "source": [
    "#Some of the features are related to each other such as ' weekday_is_monday' and ' weekday_is_tuesday' and ' data_channel_is_lifestyle' and ' data_channel_is_entertainment'. This violates non-multicollinearity of model such as linear regression\n",
    "#Merging \n",
    "cl = ['weekday_is_monday', 'weekday_is_tuesday', 'weekday_is_wednesday', 'weekday_is_thursday', 'weekday_is_friday', 'weekday_is_saturday', 'weekday_is_sunday']\n",
    "weekday = [1, 2, 3, 4, 5, 6, 7]\n",
    "for i in range(0,7):\n",
    "    news[cl[i]] = news[cl[i]].replace({1.0: weekday[i], 0.0: np.nan})\n",
    "\n",
    "news['weekdays'] = news[cl].sum(axis=1).astype('int64')\n",
    "\n",
    "cl2 = ['data_channel_is_lifestyle', 'data_channel_is_entertainment',\n",
    "       'data_channel_is_bus', 'data_channel_is_socmed',\n",
    "       'data_channel_is_tech', 'data_channel_is_world']\n",
    "    \n",
    "news[\"category\"] = news[cl2].idxmax(axis=1)\n",
    "\n",
    "\n",
    "news['category'] = news['category'].replace('data_channel_is_lifestyle', 1)\n",
    "news['category'] = news['category'].replace('data_channel_is_entertainment', 2)\n",
    "news['category'] = news['category'].replace('data_channel_is_bus', 3)\n",
    "news['category'] = news['category'].replace('data_channel_is_socmed', 4)\n",
    "news['category'] = news['category'].replace('data_channel_is_tech', 5)\n",
    "news['category'] = news['category'].replace('data_channel_is_world', 6)\n",
    "\n",
    "#drop columns we just merged\n",
    "news = news.drop(['data_channel_is_lifestyle', 'data_channel_is_entertainment',\n",
    "       'data_channel_is_bus', 'data_channel_is_socmed',\n",
    "       'data_channel_is_tech', 'data_channel_is_world','weekday_is_monday', 'weekday_is_tuesday', 'weekday_is_wednesday', \n",
    "               'weekday_is_thursday', 'weekday_is_friday', 'weekday_is_saturday', 'weekday_is_sunday','is_weekend'], axis=True)\n"
   ]
  },
  {
   "cell_type": "code",
   "execution_count": 30,
   "metadata": {
    "execution": {
     "iopub.execute_input": "2022-05-16T21:37:03.607268Z",
     "iopub.status.busy": "2022-05-16T21:37:03.606971Z",
     "iopub.status.idle": "2022-05-16T21:37:03.916624Z",
     "shell.execute_reply": "2022-05-16T21:37:03.915771Z",
     "shell.execute_reply.started": "2022-05-16T21:37:03.607241Z"
    },
    "executionInfo": {
     "elapsed": 21,
     "status": "aborted",
     "timestamp": 1623015884322,
     "user": {
      "displayName": "Qəhrəman Əkbər",
      "photoUrl": "https://lh3.googleusercontent.com/a-/AOh14GhskwHJ1T0tDgDMNQpEXFuJmkA_jwCpn1wWBqSvZg=s64",
      "userId": "02488542056402139681"
     },
     "user_tz": -120
    },
    "id": "arhHyz4fR7g5",
    "scrolled": true
   },
   "outputs": [],
   "source": [
    "#Dealing with outliers using Tukey's method\n",
    "for i in news.columns:\n",
    "    y = news[i]\n",
    "    removed_outliers = y.between(y.quantile(.05), y.quantile(.95))\n",
    "    index_names = news[~removed_outliers].index # INVERT removed_outliers!!\n",
    "    news.drop(index_names, inplace=True)\n",
    "    "
   ]
  },
  {
   "cell_type": "code",
   "execution_count": null,
   "metadata": {},
   "outputs": [],
   "source": []
  },
  {
   "cell_type": "markdown",
   "metadata": {},
   "source": [
    "## Preparation for split data"
   ]
  },
  {
   "cell_type": "code",
   "execution_count": 11,
   "metadata": {
    "execution": {
     "iopub.execute_input": "2022-05-16T21:37:14.958070Z",
     "iopub.status.busy": "2022-05-16T21:37:14.957741Z",
     "iopub.status.idle": "2022-05-16T21:37:14.964667Z",
     "shell.execute_reply": "2022-05-16T21:37:14.963612Z",
     "shell.execute_reply.started": "2022-05-16T21:37:14.958038Z"
    },
    "executionInfo": {
     "elapsed": 465,
     "status": "aborted",
     "timestamp": 1623015884768,
     "user": {
      "displayName": "Qəhrəman Əkbər",
      "photoUrl": "https://lh3.googleusercontent.com/a-/AOh14GhskwHJ1T0tDgDMNQpEXFuJmkA_jwCpn1wWBqSvZg=s64",
      "userId": "02488542056402139681"
     },
     "user_tz": -120
    },
    "id": "xTNirtMCR7g8"
   },
   "outputs": [
    {
     "name": "stdout",
     "output_type": "stream",
     "text": [
      "Series([], Name: shares, dtype: int64)\n"
     ]
    }
   ],
   "source": [
    "print(X2['shares'])"
   ]
  },
  {
   "cell_type": "code",
   "execution_count": 12,
   "metadata": {
    "execution": {
     "iopub.execute_input": "2022-05-16T21:37:14.966436Z",
     "iopub.status.busy": "2022-05-16T21:37:14.966016Z",
     "iopub.status.idle": "2022-05-16T21:37:14.978732Z",
     "shell.execute_reply": "2022-05-16T21:37:14.977876Z",
     "shell.execute_reply.started": "2022-05-16T21:37:14.966404Z"
    },
    "executionInfo": {
     "elapsed": 465,
     "status": "aborted",
     "timestamp": 1623015884769,
     "user": {
      "displayName": "Qəhrəman Əkbər",
      "photoUrl": "https://lh3.googleusercontent.com/a-/AOh14GhskwHJ1T0tDgDMNQpEXFuJmkA_jwCpn1wWBqSvZg=s64",
      "userId": "02488542056402139681"
     },
     "user_tz": -120
    },
    "id": "AYI8KS6DR7g8"
   },
   "outputs": [
    {
     "data": {
      "text/plain": [
       "0"
      ]
     },
     "execution_count": 12,
     "metadata": {},
     "output_type": "execute_result"
    }
   ],
   "source": [
    "X2['shares'].nunique()\n",
    "X2['shares'].duplicated().sum()"
   ]
  },
  {
   "cell_type": "code",
   "execution_count": 13,
   "metadata": {
    "execution": {
     "iopub.execute_input": "2022-05-16T21:37:14.980271Z",
     "iopub.status.busy": "2022-05-16T21:37:14.979825Z",
     "iopub.status.idle": "2022-05-16T21:37:14.993136Z",
     "shell.execute_reply": "2022-05-16T21:37:14.991894Z",
     "shell.execute_reply.started": "2022-05-16T21:37:14.980240Z"
    },
    "executionInfo": {
     "elapsed": 465,
     "status": "aborted",
     "timestamp": 1623015884769,
     "user": {
      "displayName": "Qəhrəman Əkbər",
      "photoUrl": "https://lh3.googleusercontent.com/a-/AOh14GhskwHJ1T0tDgDMNQpEXFuJmkA_jwCpn1wWBqSvZg=s64",
      "userId": "02488542056402139681"
     },
     "user_tz": -120
    },
    "id": "7XCgbqhBR7g8"
   },
   "outputs": [
    {
     "data": {
      "text/plain": [
       "Series([], Name: shares, dtype: int64)"
      ]
     },
     "execution_count": 13,
     "metadata": {},
     "output_type": "execute_result"
    }
   ],
   "source": [
    "X2['shares'].value_counts()"
   ]
  },
  {
   "cell_type": "code",
   "execution_count": 14,
   "metadata": {
    "execution": {
     "iopub.execute_input": "2022-05-16T21:37:14.995917Z",
     "iopub.status.busy": "2022-05-16T21:37:14.995258Z",
     "iopub.status.idle": "2022-05-16T21:37:25.715081Z",
     "shell.execute_reply": "2022-05-16T21:37:25.714012Z",
     "shell.execute_reply.started": "2022-05-16T21:37:14.995872Z"
    },
    "executionInfo": {
     "elapsed": 465,
     "status": "aborted",
     "timestamp": 1623015884769,
     "user": {
      "displayName": "Qəhrəman Əkbər",
      "photoUrl": "https://lh3.googleusercontent.com/a-/AOh14GhskwHJ1T0tDgDMNQpEXFuJmkA_jwCpn1wWBqSvZg=s64",
      "userId": "02488542056402139681"
     },
     "user_tz": -120
    },
    "id": "adk6z8GUR7g8"
   },
   "outputs": [
    {
     "name": "stderr",
     "output_type": "stream",
     "text": [
      "/Users/qu4ntum/miniforge3/lib/python3.9/site-packages/seaborn/_decorators.py:36: FutureWarning: Pass the following variable as a keyword arg: x. From version 0.12, the only valid positional argument will be `data`, and passing other arguments without an explicit keyword will result in an error or misinterpretation.\n",
      "  warnings.warn(\n"
     ]
    },
    {
     "ename": "ValueError",
     "evalue": "min() arg is an empty sequence",
     "output_type": "error",
     "traceback": [
      "\u001b[0;31m---------------------------------------------------------------------------\u001b[0m",
      "\u001b[0;31mValueError\u001b[0m                                Traceback (most recent call last)",
      "Input \u001b[0;32mIn [14]\u001b[0m, in \u001b[0;36m<cell line: 4>\u001b[0;34m()\u001b[0m\n\u001b[1;32m      2\u001b[0m sns\u001b[38;5;241m.\u001b[39mset(style\u001b[38;5;241m=\u001b[39m\u001b[38;5;124m\"\u001b[39m\u001b[38;5;124mwhitegrid\u001b[39m\u001b[38;5;124m\"\u001b[39m)\n\u001b[1;32m      3\u001b[0m fig \u001b[38;5;241m=\u001b[39m plt\u001b[38;5;241m.\u001b[39mfigure(figsize \u001b[38;5;241m=\u001b[39m (\u001b[38;5;241m10\u001b[39m,\u001b[38;5;241m6\u001b[39m))\n\u001b[0;32m----> 4\u001b[0m \u001b[43msns\u001b[49m\u001b[38;5;241;43m.\u001b[39;49m\u001b[43mcountplot\u001b[49m\u001b[43m(\u001b[49m\u001b[38;5;124;43m'\u001b[39;49m\u001b[38;5;124;43mshares\u001b[39;49m\u001b[38;5;124;43m'\u001b[39;49m\u001b[43m,\u001b[49m\u001b[43m \u001b[49m\u001b[43mdata\u001b[49m\u001b[38;5;241;43m=\u001b[39;49m\u001b[43mX2\u001b[49m\u001b[43m,\u001b[49m\u001b[43m \u001b[49m\u001b[43mpalette\u001b[49m\u001b[38;5;241;43m=\u001b[39;49m\u001b[38;5;124;43m'\u001b[39;49m\u001b[38;5;124;43mmako\u001b[39;49m\u001b[38;5;124;43m'\u001b[39;49m\u001b[43m)\u001b[49m\u001b[38;5;241m.\u001b[39mset(title\u001b[38;5;241m=\u001b[39m\u001b[38;5;124m'\u001b[39m\u001b[38;5;124mCountplot\u001b[39m\u001b[38;5;124m'\u001b[39m,)\n",
      "File \u001b[0;32m~/miniforge3/lib/python3.9/site-packages/seaborn/_decorators.py:46\u001b[0m, in \u001b[0;36m_deprecate_positional_args.<locals>.inner_f\u001b[0;34m(*args, **kwargs)\u001b[0m\n\u001b[1;32m     36\u001b[0m     warnings\u001b[38;5;241m.\u001b[39mwarn(\n\u001b[1;32m     37\u001b[0m         \u001b[38;5;124m\"\u001b[39m\u001b[38;5;124mPass the following variable\u001b[39m\u001b[38;5;132;01m{}\u001b[39;00m\u001b[38;5;124m as \u001b[39m\u001b[38;5;132;01m{}\u001b[39;00m\u001b[38;5;124mkeyword arg\u001b[39m\u001b[38;5;132;01m{}\u001b[39;00m\u001b[38;5;124m: \u001b[39m\u001b[38;5;132;01m{}\u001b[39;00m\u001b[38;5;124m. \u001b[39m\u001b[38;5;124m\"\u001b[39m\n\u001b[1;32m     38\u001b[0m         \u001b[38;5;124m\"\u001b[39m\u001b[38;5;124mFrom version 0.12, the only valid positional argument \u001b[39m\u001b[38;5;124m\"\u001b[39m\n\u001b[0;32m   (...)\u001b[0m\n\u001b[1;32m     43\u001b[0m         \u001b[38;5;167;01mFutureWarning\u001b[39;00m\n\u001b[1;32m     44\u001b[0m     )\n\u001b[1;32m     45\u001b[0m kwargs\u001b[38;5;241m.\u001b[39mupdate({k: arg \u001b[38;5;28;01mfor\u001b[39;00m k, arg \u001b[38;5;129;01min\u001b[39;00m \u001b[38;5;28mzip\u001b[39m(sig\u001b[38;5;241m.\u001b[39mparameters, args)})\n\u001b[0;32m---> 46\u001b[0m \u001b[38;5;28;01mreturn\u001b[39;00m \u001b[43mf\u001b[49m\u001b[43m(\u001b[49m\u001b[38;5;241;43m*\u001b[39;49m\u001b[38;5;241;43m*\u001b[39;49m\u001b[43mkwargs\u001b[49m\u001b[43m)\u001b[49m\n",
      "File \u001b[0;32m~/miniforge3/lib/python3.9/site-packages/seaborn/categorical.py:3598\u001b[0m, in \u001b[0;36mcountplot\u001b[0;34m(x, y, hue, data, order, hue_order, orient, color, palette, saturation, dodge, ax, **kwargs)\u001b[0m\n\u001b[1;32m   3595\u001b[0m \u001b[38;5;28;01melif\u001b[39;00m x \u001b[38;5;129;01mis\u001b[39;00m \u001b[38;5;129;01mnot\u001b[39;00m \u001b[38;5;28;01mNone\u001b[39;00m \u001b[38;5;129;01mand\u001b[39;00m y \u001b[38;5;129;01mis\u001b[39;00m \u001b[38;5;129;01mnot\u001b[39;00m \u001b[38;5;28;01mNone\u001b[39;00m:\n\u001b[1;32m   3596\u001b[0m     \u001b[38;5;28;01mraise\u001b[39;00m \u001b[38;5;167;01mValueError\u001b[39;00m(\u001b[38;5;124m\"\u001b[39m\u001b[38;5;124mCannot pass values for both `x` and `y`\u001b[39m\u001b[38;5;124m\"\u001b[39m)\n\u001b[0;32m-> 3598\u001b[0m plotter \u001b[38;5;241m=\u001b[39m \u001b[43m_CountPlotter\u001b[49m\u001b[43m(\u001b[49m\n\u001b[1;32m   3599\u001b[0m \u001b[43m    \u001b[49m\u001b[43mx\u001b[49m\u001b[43m,\u001b[49m\u001b[43m \u001b[49m\u001b[43my\u001b[49m\u001b[43m,\u001b[49m\u001b[43m \u001b[49m\u001b[43mhue\u001b[49m\u001b[43m,\u001b[49m\u001b[43m \u001b[49m\u001b[43mdata\u001b[49m\u001b[43m,\u001b[49m\u001b[43m \u001b[49m\u001b[43morder\u001b[49m\u001b[43m,\u001b[49m\u001b[43m \u001b[49m\u001b[43mhue_order\u001b[49m\u001b[43m,\u001b[49m\n\u001b[1;32m   3600\u001b[0m \u001b[43m    \u001b[49m\u001b[43mestimator\u001b[49m\u001b[43m,\u001b[49m\u001b[43m \u001b[49m\u001b[43mci\u001b[49m\u001b[43m,\u001b[49m\u001b[43m \u001b[49m\u001b[43mn_boot\u001b[49m\u001b[43m,\u001b[49m\u001b[43m \u001b[49m\u001b[43munits\u001b[49m\u001b[43m,\u001b[49m\u001b[43m \u001b[49m\u001b[43mseed\u001b[49m\u001b[43m,\u001b[49m\n\u001b[1;32m   3601\u001b[0m \u001b[43m    \u001b[49m\u001b[43morient\u001b[49m\u001b[43m,\u001b[49m\u001b[43m \u001b[49m\u001b[43mcolor\u001b[49m\u001b[43m,\u001b[49m\u001b[43m \u001b[49m\u001b[43mpalette\u001b[49m\u001b[43m,\u001b[49m\u001b[43m \u001b[49m\u001b[43msaturation\u001b[49m\u001b[43m,\u001b[49m\n\u001b[1;32m   3602\u001b[0m \u001b[43m    \u001b[49m\u001b[43merrcolor\u001b[49m\u001b[43m,\u001b[49m\u001b[43m \u001b[49m\u001b[43merrwidth\u001b[49m\u001b[43m,\u001b[49m\u001b[43m \u001b[49m\u001b[43mcapsize\u001b[49m\u001b[43m,\u001b[49m\u001b[43m \u001b[49m\u001b[43mdodge\u001b[49m\n\u001b[1;32m   3603\u001b[0m \u001b[43m\u001b[49m\u001b[43m)\u001b[49m\n\u001b[1;32m   3605\u001b[0m plotter\u001b[38;5;241m.\u001b[39mvalue_label \u001b[38;5;241m=\u001b[39m \u001b[38;5;124m\"\u001b[39m\u001b[38;5;124mcount\u001b[39m\u001b[38;5;124m\"\u001b[39m\n\u001b[1;32m   3607\u001b[0m \u001b[38;5;28;01mif\u001b[39;00m ax \u001b[38;5;129;01mis\u001b[39;00m \u001b[38;5;28;01mNone\u001b[39;00m:\n",
      "File \u001b[0;32m~/miniforge3/lib/python3.9/site-packages/seaborn/categorical.py:1586\u001b[0m, in \u001b[0;36m_BarPlotter.__init__\u001b[0;34m(self, x, y, hue, data, order, hue_order, estimator, ci, n_boot, units, seed, orient, color, palette, saturation, errcolor, errwidth, capsize, dodge)\u001b[0m\n\u001b[1;32m   1583\u001b[0m \u001b[38;5;124;03m\"\"\"Initialize the plotter.\"\"\"\u001b[39;00m\n\u001b[1;32m   1584\u001b[0m \u001b[38;5;28mself\u001b[39m\u001b[38;5;241m.\u001b[39mestablish_variables(x, y, hue, data, orient,\n\u001b[1;32m   1585\u001b[0m                          order, hue_order, units)\n\u001b[0;32m-> 1586\u001b[0m \u001b[38;5;28;43mself\u001b[39;49m\u001b[38;5;241;43m.\u001b[39;49m\u001b[43mestablish_colors\u001b[49m\u001b[43m(\u001b[49m\u001b[43mcolor\u001b[49m\u001b[43m,\u001b[49m\u001b[43m \u001b[49m\u001b[43mpalette\u001b[49m\u001b[43m,\u001b[49m\u001b[43m \u001b[49m\u001b[43msaturation\u001b[49m\u001b[43m)\u001b[49m\n\u001b[1;32m   1587\u001b[0m \u001b[38;5;28mself\u001b[39m\u001b[38;5;241m.\u001b[39mestimate_statistic(estimator, ci, n_boot, seed)\n\u001b[1;32m   1589\u001b[0m \u001b[38;5;28mself\u001b[39m\u001b[38;5;241m.\u001b[39mdodge \u001b[38;5;241m=\u001b[39m dodge\n",
      "File \u001b[0;32m~/miniforge3/lib/python3.9/site-packages/seaborn/categorical.py:319\u001b[0m, in \u001b[0;36m_CategoricalPlotter.establish_colors\u001b[0;34m(self, color, palette, saturation)\u001b[0m\n\u001b[1;32m    317\u001b[0m \u001b[38;5;66;03m# Determine the gray color to use for the lines framing the plot\u001b[39;00m\n\u001b[1;32m    318\u001b[0m light_vals \u001b[38;5;241m=\u001b[39m [colorsys\u001b[38;5;241m.\u001b[39mrgb_to_hls(\u001b[38;5;241m*\u001b[39mc)[\u001b[38;5;241m1\u001b[39m] \u001b[38;5;28;01mfor\u001b[39;00m c \u001b[38;5;129;01min\u001b[39;00m rgb_colors]\n\u001b[0;32m--> 319\u001b[0m lum \u001b[38;5;241m=\u001b[39m \u001b[38;5;28;43mmin\u001b[39;49m\u001b[43m(\u001b[49m\u001b[43mlight_vals\u001b[49m\u001b[43m)\u001b[49m \u001b[38;5;241m*\u001b[39m \u001b[38;5;241m.6\u001b[39m\n\u001b[1;32m    320\u001b[0m gray \u001b[38;5;241m=\u001b[39m mpl\u001b[38;5;241m.\u001b[39mcolors\u001b[38;5;241m.\u001b[39mrgb2hex((lum, lum, lum))\n\u001b[1;32m    322\u001b[0m \u001b[38;5;66;03m# Assign object attributes\u001b[39;00m\n",
      "\u001b[0;31mValueError\u001b[0m: min() arg is an empty sequence"
     ]
    },
    {
     "data": {
      "text/plain": [
       "<Figure size 720x432 with 0 Axes>"
      ]
     },
     "metadata": {},
     "output_type": "display_data"
    }
   ],
   "source": [
    "#countplot\n",
    "sns.set(style=\"whitegrid\")\n",
    "fig = plt.figure(figsize = (10,6))\n",
    "sns.countplot('shares', data=X2, palette='mako').set(title='Countplot',)"
   ]
  },
  {
   "cell_type": "code",
   "execution_count": null,
   "metadata": {
    "execution": {
     "iopub.execute_input": "2022-05-16T21:37:25.717409Z",
     "iopub.status.busy": "2022-05-16T21:37:25.716694Z",
     "iopub.status.idle": "2022-05-16T21:37:25.724261Z",
     "shell.execute_reply": "2022-05-16T21:37:25.723236Z",
     "shell.execute_reply.started": "2022-05-16T21:37:25.717361Z"
    },
    "executionInfo": {
     "elapsed": 465,
     "status": "aborted",
     "timestamp": 1623015884770,
     "user": {
      "displayName": "Qəhrəman Əkbər",
      "photoUrl": "https://lh3.googleusercontent.com/a-/AOh14GhskwHJ1T0tDgDMNQpEXFuJmkA_jwCpn1wWBqSvZg=s64",
      "userId": "02488542056402139681"
     },
     "user_tz": -120
    },
    "id": "2ItFItY0R7g9"
   },
   "outputs": [],
   "source": [
    "A = pd.DataFrame(X2.shares.value_counts())"
   ]
  },
  {
   "cell_type": "code",
   "execution_count": null,
   "metadata": {
    "execution": {
     "iopub.execute_input": "2022-05-16T21:37:25.725921Z",
     "iopub.status.busy": "2022-05-16T21:37:25.725556Z",
     "iopub.status.idle": "2022-05-16T21:37:25.746296Z",
     "shell.execute_reply": "2022-05-16T21:37:25.745275Z",
     "shell.execute_reply.started": "2022-05-16T21:37:25.725885Z"
    },
    "executionInfo": {
     "elapsed": 465,
     "status": "aborted",
     "timestamp": 1623015884770,
     "user": {
      "displayName": "Qəhrəman Əkbər",
      "photoUrl": "https://lh3.googleusercontent.com/a-/AOh14GhskwHJ1T0tDgDMNQpEXFuJmkA_jwCpn1wWBqSvZg=s64",
      "userId": "02488542056402139681"
     },
     "user_tz": -120
    },
    "id": "I-VCpku9R7g9"
   },
   "outputs": [],
   "source": [
    "A.describe()"
   ]
  },
  {
   "cell_type": "code",
   "execution_count": null,
   "metadata": {
    "execution": {
     "iopub.execute_input": "2022-05-16T21:37:25.748117Z",
     "iopub.status.busy": "2022-05-16T21:37:25.747689Z",
     "iopub.status.idle": "2022-05-16T21:37:25.757066Z",
     "shell.execute_reply": "2022-05-16T21:37:25.755942Z",
     "shell.execute_reply.started": "2022-05-16T21:37:25.748073Z"
    },
    "executionInfo": {
     "elapsed": 465,
     "status": "aborted",
     "timestamp": 1623015884771,
     "user": {
      "displayName": "Qəhrəman Əkbər",
      "photoUrl": "https://lh3.googleusercontent.com/a-/AOh14GhskwHJ1T0tDgDMNQpEXFuJmkA_jwCpn1wWBqSvZg=s64",
      "userId": "02488542056402139681"
     },
     "user_tz": -120
    },
    "id": "LwWh6DOkR7g9"
   },
   "outputs": [],
   "source": [
    "data=X2.copy()"
   ]
  },
  {
   "cell_type": "code",
   "execution_count": null,
   "metadata": {
    "execution": {
     "iopub.execute_input": "2022-05-16T21:37:25.758972Z",
     "iopub.status.busy": "2022-05-16T21:37:25.758537Z",
     "iopub.status.idle": "2022-05-16T21:37:25.770780Z",
     "shell.execute_reply": "2022-05-16T21:37:25.769976Z",
     "shell.execute_reply.started": "2022-05-16T21:37:25.758929Z"
    },
    "executionInfo": {
     "elapsed": 465,
     "status": "aborted",
     "timestamp": 1623015884771,
     "user": {
      "displayName": "Qəhrəman Əkbər",
      "photoUrl": "https://lh3.googleusercontent.com/a-/AOh14GhskwHJ1T0tDgDMNQpEXFuJmkA_jwCpn1wWBqSvZg=s64",
      "userId": "02488542056402139681"
     },
     "user_tz": -120
    },
    "id": "5R1-c_S5R7g9"
   },
   "outputs": [],
   "source": [
    "print(data.shares)"
   ]
  },
  {
   "cell_type": "code",
   "execution_count": null,
   "metadata": {
    "execution": {
     "iopub.execute_input": "2022-05-16T21:37:25.772536Z",
     "iopub.status.busy": "2022-05-16T21:37:25.772120Z",
     "iopub.status.idle": "2022-05-16T21:37:25.780574Z",
     "shell.execute_reply": "2022-05-16T21:37:25.779588Z",
     "shell.execute_reply.started": "2022-05-16T21:37:25.772499Z"
    }
   },
   "outputs": [],
   "source": [
    "data['shares'].median()"
   ]
  },
  {
   "cell_type": "markdown",
   "metadata": {},
   "source": [
    "We spilt the categories by median value."
   ]
  },
  {
   "cell_type": "code",
   "execution_count": null,
   "metadata": {
    "execution": {
     "iopub.execute_input": "2022-05-16T21:37:25.782543Z",
     "iopub.status.busy": "2022-05-16T21:37:25.782148Z",
     "iopub.status.idle": "2022-05-16T21:37:25.791064Z",
     "shell.execute_reply": "2022-05-16T21:37:25.790102Z",
     "shell.execute_reply.started": "2022-05-16T21:37:25.782501Z"
    },
    "executionInfo": {
     "elapsed": 466,
     "status": "aborted",
     "timestamp": 1623015884772,
     "user": {
      "displayName": "Qəhrəman Əkbər",
      "photoUrl": "https://lh3.googleusercontent.com/a-/AOh14GhskwHJ1T0tDgDMNQpEXFuJmkA_jwCpn1wWBqSvZg=s64",
      "userId": "02488542056402139681"
     },
     "user_tz": -120
    },
    "id": "03_FJeoaR7g9"
   },
   "outputs": [],
   "source": [
    "data['shares'] = data['shares'].apply(lambda x: 0 if x <1300 else 1) "
   ]
  },
  {
   "cell_type": "code",
   "execution_count": null,
   "metadata": {
    "execution": {
     "iopub.execute_input": "2022-05-16T21:37:25.792993Z",
     "iopub.status.busy": "2022-05-16T21:37:25.792338Z",
     "iopub.status.idle": "2022-05-16T21:37:25.804271Z",
     "shell.execute_reply": "2022-05-16T21:37:25.803287Z",
     "shell.execute_reply.started": "2022-05-16T21:37:25.792946Z"
    },
    "executionInfo": {
     "elapsed": 11,
     "status": "aborted",
     "timestamp": 1623015884773,
     "user": {
      "displayName": "Qəhrəman Əkbər",
      "photoUrl": "https://lh3.googleusercontent.com/a-/AOh14GhskwHJ1T0tDgDMNQpEXFuJmkA_jwCpn1wWBqSvZg=s64",
      "userId": "02488542056402139681"
     },
     "user_tz": -120
    },
    "id": "ePenwYSSR7g-"
   },
   "outputs": [],
   "source": [
    "data.shares.value_counts()"
   ]
  },
  {
   "cell_type": "markdown",
   "metadata": {},
   "source": [
    "Our dataset at this point is well balanced, i.e. it does not require as to do any sampling."
   ]
  },
  {
   "cell_type": "code",
   "execution_count": null,
   "metadata": {
    "execution": {
     "iopub.execute_input": "2022-05-16T21:37:25.806237Z",
     "iopub.status.busy": "2022-05-16T21:37:25.805647Z",
     "iopub.status.idle": "2022-05-16T21:37:25.812758Z",
     "shell.execute_reply": "2022-05-16T21:37:25.811953Z",
     "shell.execute_reply.started": "2022-05-16T21:37:25.806192Z"
    },
    "executionInfo": {
     "elapsed": 10,
     "status": "aborted",
     "timestamp": 1623015884773,
     "user": {
      "displayName": "Qəhrəman Əkbər",
      "photoUrl": "https://lh3.googleusercontent.com/a-/AOh14GhskwHJ1T0tDgDMNQpEXFuJmkA_jwCpn1wWBqSvZg=s64",
      "userId": "02488542056402139681"
     },
     "user_tz": -120
    },
    "id": "KkeK1QyyR7g-"
   },
   "outputs": [],
   "source": [
    "XA = data.copy()"
   ]
  },
  {
   "cell_type": "markdown",
   "metadata": {
    "id": "ucQOXOdoR7g-"
   },
   "source": [
    "## Train and test data split"
   ]
  },
  {
   "cell_type": "markdown",
   "metadata": {
    "id": "9GguMS89R7g-"
   },
   "source": [
    "#### Standardise the data"
   ]
  },
  {
   "cell_type": "code",
   "execution_count": null,
   "metadata": {
    "execution": {
     "iopub.execute_input": "2022-05-16T21:37:25.815045Z",
     "iopub.status.busy": "2022-05-16T21:37:25.813785Z",
     "iopub.status.idle": "2022-05-16T21:37:25.831156Z",
     "shell.execute_reply": "2022-05-16T21:37:25.830250Z",
     "shell.execute_reply.started": "2022-05-16T21:37:25.814994Z"
    },
    "id": "LJu_5PG5R7g-"
   },
   "outputs": [],
   "source": [
    "XB = XA.loc[:, XA.columns != 'shares']\n",
    "y= XA[['shares']]\n",
    "\n",
    "scaler = preprocessing.StandardScaler()\n",
    "#names = XA.columns\n",
    "Xt = scaler.fit_transform(XB)\n",
    "Xt = pd.DataFrame(Xt)a"
   ]
  },
  {
   "cell_type": "markdown",
   "metadata": {
    "id": "rP6l1KvoR7g-"
   },
   "source": [
    "We also prepare a dataset with normalised data for kNN regression."
   ]
  },
  {
   "cell_type": "code",
   "execution_count": null,
   "metadata": {
    "execution": {
     "iopub.execute_input": "2022-05-16T21:37:25.832647Z",
     "iopub.status.busy": "2022-05-16T21:37:25.832230Z",
     "iopub.status.idle": "2022-05-16T21:37:25.843135Z",
     "shell.execute_reply": "2022-05-16T21:37:25.842083Z",
     "shell.execute_reply.started": "2022-05-16T21:37:25.832618Z"
    },
    "id": "Mfdh83NtR7g-"
   },
   "outputs": [],
   "source": [
    "scaler = MinMaxScaler()\n",
    "names = XB.columns\n",
    "Xn = scaler.fit_transform(XB)\n",
    "Xn = pd.DataFrame(Xn)"
   ]
  },
  {
   "cell_type": "code",
   "execution_count": null,
   "metadata": {
    "execution": {
     "iopub.execute_input": "2022-05-16T21:37:25.844863Z",
     "iopub.status.busy": "2022-05-16T21:37:25.844397Z",
     "iopub.status.idle": "2022-05-16T21:37:25.850291Z",
     "shell.execute_reply": "2022-05-16T21:37:25.849032Z",
     "shell.execute_reply.started": "2022-05-16T21:37:25.844819Z"
    },
    "id": "38tdwBJqR7g_"
   },
   "outputs": [],
   "source": [
    "test_AUC = {}\n",
    "train_AUC = {}\n",
    "test_acc = {}\n",
    "train_acc = {}"
   ]
  },
  {
   "cell_type": "markdown",
   "metadata": {
    "id": "hM2hEU_wR7g_"
   },
   "source": [
    "#### Split the data"
   ]
  },
  {
   "cell_type": "markdown",
   "metadata": {},
   "source": [
    "We chose to split the data into train and test to 80% and 20% of our dataset, respectively."
   ]
  },
  {
   "cell_type": "code",
   "execution_count": null,
   "metadata": {
    "execution": {
     "iopub.execute_input": "2022-05-16T21:37:25.854009Z",
     "iopub.status.busy": "2022-05-16T21:37:25.853595Z",
     "iopub.status.idle": "2022-05-16T21:37:25.867428Z",
     "shell.execute_reply": "2022-05-16T21:37:25.866169Z",
     "shell.execute_reply.started": "2022-05-16T21:37:25.853975Z"
    },
    "id": "QRN6gIh7R7g_",
    "outputId": "50d5a493-8a0c-432b-a607-a3c498c6a093"
   },
   "outputs": [],
   "source": [
    "X_train, X_test, y_train, y_test = train_test_split(Xt , y, test_size=0.2, random_state = 1)\n",
    "kf = KFold(n_splits = 5, shuffle = True,  random_state=55) ##this is a must - its a validator (he asked about this durin 1st presentation)\n",
    "print(\"Xt shape:\",Xt.shape)\n",
    "print(\"y shape:\",y.shape)\n",
    "print(\"X train:\",X_train.shape,\"X test:\",X_test.shape)\n",
    "print(\"y train:\",y_train.shape,\"y test:\",y_test.shape)"
   ]
  },
  {
   "cell_type": "code",
   "execution_count": null,
   "metadata": {
    "execution": {
     "iopub.execute_input": "2022-05-16T21:37:25.869817Z",
     "iopub.status.busy": "2022-05-16T21:37:25.869101Z",
     "iopub.status.idle": "2022-05-16T21:37:25.877012Z",
     "shell.execute_reply": "2022-05-16T21:37:25.875966Z",
     "shell.execute_reply.started": "2022-05-16T21:37:25.869751Z"
    },
    "id": "HdXfibcIR7g_",
    "outputId": "48cea23d-a691-4fd9-e5f9-5a01b9e171c2"
   },
   "outputs": [],
   "source": [
    "print(y.dtypes)"
   ]
  },
  {
   "cell_type": "markdown",
   "metadata": {
    "id": "aJ0SaXCbR7hA"
   },
   "source": [
    "## Models"
   ]
  },
  {
   "cell_type": "markdown",
   "metadata": {
    "id": "6k9ONIRDR7hC"
   },
   "source": [
    "### Logistic Regression "
   ]
  },
  {
   "cell_type": "code",
   "execution_count": null,
   "metadata": {
    "execution": {
     "iopub.execute_input": "2022-05-16T21:37:25.878969Z",
     "iopub.status.busy": "2022-05-16T21:37:25.878166Z",
     "iopub.status.idle": "2022-05-16T21:37:26.210475Z",
     "shell.execute_reply": "2022-05-16T21:37:26.209319Z",
     "shell.execute_reply.started": "2022-05-16T21:37:25.878922Z"
    },
    "id": "prll2GCBR7hC",
    "outputId": "9df66bda-784b-4932-df2d-a891af414802"
   },
   "outputs": [],
   "source": [
    "kf = KFold(n_splits = 5, shuffle = True,  random_state=55)\n",
    "\n",
    "for train, test in kf. split(Xt.index.values):\n",
    "    X_train = Xt.iloc[train]\n",
    "    y_train = y.iloc[train]\n",
    "    X_test = Xt.iloc[test]\n",
    "    y_test = y.iloc[test]\n",
    "\n",
    "    reg = LogisticRegression()\n",
    "    reg.fit(X_train,y_train)\n",
    "\n",
    "    pred_train = reg.predict(X_train)\n",
    "    pred = reg.predict(X_test)\n",
    "    \n",
    "    accuracy_train = []\n",
    "    precision_train = []\n",
    "    ra_train = []\n",
    "    recall_train = []\n",
    "    \n",
    "    accuracy = metrics.accuracy_score(y_train, pred_train)\n",
    "    accuracy_train.append(accuracy)\n",
    "    precision = metrics.precision_score(y_train, pred_train)\n",
    "    precision_train.append(precision)\n",
    "    ra= metrics.roc_auc_score(y_train, pred_train)\n",
    "    ra_train.append(ra)\n",
    "    recall= metrics.recall_score(y_train, pred_train)\n",
    "    recall_train.append(recall)\n",
    "    \n",
    "    accuracy_test = []\n",
    "    precision_test = []\n",
    "    ra_test = []\n",
    "    recall_test = []\n",
    "\n",
    "    accuracy = metrics.accuracy_score(y_test, pred)\n",
    "    accuracy_test.append(accuracy)\n",
    "    precision = metrics.precision_score(y_test, pred)\n",
    "    precision_test.append(precision)\n",
    "    ra= metrics.roc_auc_score(y_test, pred)\n",
    "    ra_test.append(ra)\n",
    "    recall= metrics.recall_score(y_test, pred)\n",
    "    recall_test.append(recall)\n",
    "\n",
    "printmd('**TRAIN**')\n",
    "print(' Accuracy:',np.mean(accuracy_train),'\\n', 'Precision:', np.mean(precision_train), \n",
    "      '\\n', 'Roc Auc score:', np.mean(ra_train), '\\n', 'Recall:',np.mean(recall_train))\n",
    "\n",
    "printmd('**TEST**')\n",
    "print(' Accuracy:',np.mean(accuracy_test),'\\n', 'Precision:', np.mean(precision_test), \n",
    "      '\\n', 'Roc Auc score:', np.mean(ra_test), '\\n', 'Recall:',np.mean(recall_test))"
   ]
  },
  {
   "cell_type": "code",
   "execution_count": null,
   "metadata": {
    "execution": {
     "iopub.execute_input": "2022-05-16T21:37:26.212818Z",
     "iopub.status.busy": "2022-05-16T21:37:26.212159Z",
     "iopub.status.idle": "2022-05-16T21:37:26.220562Z",
     "shell.execute_reply": "2022-05-16T21:37:26.219360Z",
     "shell.execute_reply.started": "2022-05-16T21:37:26.212750Z"
    },
    "id": "mPzRK290R7hC"
   },
   "outputs": [],
   "source": [
    "lr1 = {'TRAIN Accuracy': np.mean(accuracy_train), 'TRAIN Precision': np.mean(precision_train), \n",
    "         'TRAIN ROC AUC': np.mean(ra_train), 'TRAIN Recall': np.mean(recall_train)}\n",
    "lr2 = {'TEST Accuracy': np.mean(accuracy_test), \"TEST Precision\": np.mean(precision_test), \n",
    "        'Test ROC AUC': np.mean(ra_test), 'TEST Recall': np.mean(recall_test)}"
   ]
  },
  {
   "cell_type": "markdown",
   "metadata": {},
   "source": [
    "The results for precision and accuracy are not very satisfying, however, tehy are close for test data to the train data results. RAS is more than 0.5 which means that there is a quite high chance that the classifier will be able to distinguish the class values. Recall is also above 0.5.\n",
    "\n",
    "The confusion matrix gives us the false positives and false negatives (which are close in numbers). The model seems to be better at predicting )s."
   ]
  },
  {
   "cell_type": "code",
   "execution_count": null,
   "metadata": {
    "execution": {
     "iopub.execute_input": "2022-05-16T21:37:26.222916Z",
     "iopub.status.busy": "2022-05-16T21:37:26.222219Z",
     "iopub.status.idle": "2022-05-16T21:37:26.512198Z",
     "shell.execute_reply": "2022-05-16T21:37:26.511407Z",
     "shell.execute_reply.started": "2022-05-16T21:37:26.222864Z"
    },
    "id": "FGfMGFBeR7hC"
   },
   "outputs": [],
   "source": [
    "from sklearn.metrics import confusion_matrix\n",
    "confusion_matrix = confusion_matrix(y_test, pred)\n",
    "plt.figure(figsize = (8,6))\n",
    "sns.heatmap(confusion_matrix, annot=True, fmt=\"d\")"
   ]
  },
  {
   "cell_type": "code",
   "execution_count": null,
   "metadata": {
    "execution": {
     "iopub.execute_input": "2022-05-16T21:37:26.513886Z",
     "iopub.status.busy": "2022-05-16T21:37:26.513313Z",
     "iopub.status.idle": "2022-05-16T21:37:27.006559Z",
     "shell.execute_reply": "2022-05-16T21:37:27.005773Z",
     "shell.execute_reply.started": "2022-05-16T21:37:26.513838Z"
    },
    "id": "pMOJpaBfR7hD"
   },
   "outputs": [],
   "source": [
    "logit_roc_auc = np.mean(ra_test)\n",
    "fpr, tpr, thresholds = roc_curve(y_test, reg.predict_proba(X_test)[:,1])\n",
    "plt.figure()\n",
    "plt.plot(fpr, tpr, label='Logistic Regression (area = %0.2f)' % logit_roc_auc)\n",
    "plt.plot([0, 1], [0, 1],'r--')\n",
    "plt.xlim([0.0, 1.0])\n",
    "plt.ylim([0.0, 1.05])\n",
    "plt.xlabel('False Positive Rate')\n",
    "plt.ylabel('True Positive Rate')\n",
    "plt.title('Receiver operating characteristic')\n",
    "plt.legend(loc=\"lower right\")\n",
    "plt.savefig('Log_ROC')\n",
    "plt.show()"
   ]
  },
  {
   "cell_type": "code",
   "execution_count": null,
   "metadata": {
    "execution": {
     "iopub.execute_input": "2022-05-16T21:37:27.007936Z",
     "iopub.status.busy": "2022-05-16T21:37:27.007550Z",
     "iopub.status.idle": "2022-05-16T21:37:27.013447Z",
     "shell.execute_reply": "2022-05-16T21:37:27.012208Z",
     "shell.execute_reply.started": "2022-05-16T21:37:27.007907Z"
    },
    "id": "bxVvV7-AR7hD"
   },
   "outputs": [],
   "source": [
    "test_AUC.update( {'Logistic regression': np.mean(ra_test)} )\n",
    "train_AUC.update( {'Logistic regression': np.mean(ra_train)} )\n",
    "test_acc.update( {'Logistic regression': np.mean(accuracy_test)} )\n",
    "train_acc.update( {'Logistic regression': np.mean(accuracy_train)} )"
   ]
  },
  {
   "cell_type": "markdown",
   "metadata": {},
   "source": [
    "The bigger the area under the curve the better. However, the result is difficult to interpret due to unclear chnages in distances between the curves. However, the recall could definitely be improved."
   ]
  },
  {
   "cell_type": "markdown",
   "metadata": {
    "id": "j6ln1ADGR7hD"
   },
   "source": [
    "### Decision Tree"
   ]
  },
  {
   "cell_type": "code",
   "execution_count": null,
   "metadata": {
    "execution": {
     "iopub.execute_input": "2022-05-16T21:37:27.015175Z",
     "iopub.status.busy": "2022-05-16T21:37:27.014771Z",
     "iopub.status.idle": "2022-05-16T21:37:27.321042Z",
     "shell.execute_reply": "2022-05-16T21:37:27.319943Z",
     "shell.execute_reply.started": "2022-05-16T21:37:27.015141Z"
    },
    "id": "XBndaNqhR7hD"
   },
   "outputs": [],
   "source": [
    "kf = KFold(n_splits = 5, shuffle = True,  random_state=55)\n",
    "\n",
    "for train, test in kf. split(Xt.index.values):\n",
    "    X_train = Xt.iloc[train]\n",
    "    y_train = y.iloc[train]\n",
    "    X_test = Xt.iloc[test]\n",
    "    y_test = y.iloc[test]\n",
    "\n",
    "    tree = DecisionTreeClassifier(max_depth = 10)\n",
    "    tree.fit(X_train,y_train)\n",
    "\n",
    "    pred_train = tree.predict(X_train)\n",
    "    pred = tree.predict(X_test)\n",
    "    \n",
    "    accuracy_train = []\n",
    "    precision_train = []\n",
    "    ra_train = []\n",
    "    recall_train = []\n",
    "    \n",
    "    accuracy = metrics.accuracy_score(y_train, pred_train)\n",
    "    accuracy_train.append(accuracy)\n",
    "    precision = metrics.precision_score(y_train, pred_train)\n",
    "    precision_train.append(precision)\n",
    "    ra= metrics.roc_auc_score(y_train, pred_train)\n",
    "    ra_train.append(ra)\n",
    "    recall= metrics.recall_score(y_train, pred_train)\n",
    "    recall_train.append(recall)\n",
    "    \n",
    "    accuracy_test = []\n",
    "    precision_test = []\n",
    "    ra_test = []\n",
    "    recall_test = []\n",
    "\n",
    "    accuracy = metrics.accuracy_score(y_test, pred)\n",
    "    accuracy_test.append(accuracy)\n",
    "    precision = metrics.precision_score(y_test, pred)\n",
    "    precision_test.append(precision)\n",
    "    ra= metrics.roc_auc_score(y_test, pred)\n",
    "    ra_test.append(ra)\n",
    "    recall= metrics.recall_score(y_test, pred)\n",
    "    recall_test.append(recall)"
   ]
  },
  {
   "cell_type": "code",
   "execution_count": null,
   "metadata": {
    "execution": {
     "iopub.execute_input": "2022-05-16T21:37:27.322696Z",
     "iopub.status.busy": "2022-05-16T21:37:27.322370Z",
     "iopub.status.idle": "2022-05-16T21:37:27.337231Z",
     "shell.execute_reply": "2022-05-16T21:37:27.336015Z",
     "shell.execute_reply.started": "2022-05-16T21:37:27.322666Z"
    },
    "id": "pkH9VJXtR7hD",
    "outputId": "bc101f4a-c311-4c45-ff3e-cd4668251ddb"
   },
   "outputs": [],
   "source": [
    "printmd('**TRAIN**')\n",
    "print(' Accuracy:',np.mean(accuracy_train),'\\n', 'Precision:', np.mean(precision_train), \n",
    "      '\\n', 'Roc Auc score:', np.mean(ra_train), '\\n', 'Recall:',np.mean(recall_train))\n",
    "\n",
    "printmd('**TEST**')\n",
    "print(' Accuracy:',np.mean(accuracy_test),'\\n', 'Precision:', np.mean(precision_test), \n",
    "      '\\n', 'Roc Auc score:', np.mean(ra_test), '\\n', 'Recall:',np.mean(recall_test))"
   ]
  },
  {
   "cell_type": "code",
   "execution_count": null,
   "metadata": {
    "execution": {
     "iopub.execute_input": "2022-05-16T21:37:27.338680Z",
     "iopub.status.busy": "2022-05-16T21:37:27.338400Z",
     "iopub.status.idle": "2022-05-16T21:37:27.343479Z",
     "shell.execute_reply": "2022-05-16T21:37:27.342843Z",
     "shell.execute_reply.started": "2022-05-16T21:37:27.338650Z"
    },
    "id": "Gsh1eY-MR7hD"
   },
   "outputs": [],
   "source": [
    "dt1 = {'TRAIN Accuracy': np.mean(accuracy_train), 'TRAIN Precision': np.mean(precision_train), \n",
    "         'TRAIN ROC AUC': np.mean(ra_train), 'TRAIN Recall': np.mean(recall_train)}\n",
    "dt2 = {'TEST Accuracy': np.mean(accuracy_test), \"TEST Precision\": np.mean(precision_test), \n",
    "        'Test ROC AUC': np.mean(ra_test), 'TEST Recall': np.mean(recall_test)}"
   ]
  },
  {
   "cell_type": "markdown",
   "metadata": {},
   "source": [
    "The result of the model are no satisfactory, as precision is below 50%. The results between the train and test data are far apart in the measures, with low accuracy oo the test data.\n",
    "\n"
   ]
  },
  {
   "cell_type": "code",
   "execution_count": null,
   "metadata": {
    "execution": {
     "iopub.execute_input": "2022-05-16T21:37:27.344537Z",
     "iopub.status.busy": "2022-05-16T21:37:27.344313Z",
     "iopub.status.idle": "2022-05-16T21:37:27.535401Z",
     "shell.execute_reply": "2022-05-16T21:37:27.534628Z",
     "shell.execute_reply.started": "2022-05-16T21:37:27.344513Z"
    },
    "id": "EA7ZaGsVR7hE"
   },
   "outputs": [],
   "source": [
    "roc_auc = roc_auc_score(y_test, tree.predict(X_test))\n",
    "fpr, tpr, thresholds = roc_curve(y_test, tree.predict_proba(X_test)[:,1])\n",
    "plt.figure()\n",
    "plt.plot(fpr, tpr, label='Decision tree (area = %0.2f)' % roc_auc)\n",
    "plt.plot([0, 1], [0, 1],'r--')\n",
    "plt.xlim([0.0, 1.0])\n",
    "plt.ylim([0.0, 1.05])\n",
    "plt.xlabel('False Positive Rate')\n",
    "plt.ylabel('True Positive Rate')\n",
    "plt.title('Receiver operating characteristic')\n",
    "plt.legend(loc=\"lower right\")\n",
    "plt.show()"
   ]
  },
  {
   "cell_type": "code",
   "execution_count": null,
   "metadata": {
    "execution": {
     "iopub.execute_input": "2022-05-16T21:37:27.536537Z",
     "iopub.status.busy": "2022-05-16T21:37:27.536305Z",
     "iopub.status.idle": "2022-05-16T21:37:27.542470Z",
     "shell.execute_reply": "2022-05-16T21:37:27.541192Z",
     "shell.execute_reply.started": "2022-05-16T21:37:27.536513Z"
    },
    "id": "K62l1AJ1R7hE"
   },
   "outputs": [],
   "source": [
    "test_AUC.update( {'Decision tree': np.mean(ra_test)} )\n",
    "train_AUC.update( {'Decision tree': np.mean(ra_train)} )\n",
    "test_acc.update( {'Decision tree': np.mean(accuracy_test)} )\n",
    "train_acc.update( {'Decision tree': np.mean(accuracy_train)} )"
   ]
  },
  {
   "cell_type": "markdown",
   "metadata": {},
   "source": [
    "The curves overlap, with the cut-off point at best being around 55% for TP rate and 40% for FP rate. The results are highly unsatisfactory."
   ]
  },
  {
   "cell_type": "markdown",
   "metadata": {
    "id": "VyizcqNYR7hE"
   },
   "source": [
    "## Naive Bayes"
   ]
  },
  {
   "cell_type": "code",
   "execution_count": null,
   "metadata": {
    "execution": {
     "iopub.execute_input": "2022-05-16T21:37:27.544563Z",
     "iopub.status.busy": "2022-05-16T21:37:27.544151Z",
     "iopub.status.idle": "2022-05-16T21:37:27.675658Z",
     "shell.execute_reply": "2022-05-16T21:37:27.674701Z",
     "shell.execute_reply.started": "2022-05-16T21:37:27.544519Z"
    },
    "id": "xLHloinhR7hE"
   },
   "outputs": [],
   "source": [
    "kf = KFold(n_splits = 5, shuffle = True,  random_state=55)\n",
    "\n",
    "for train, test in kf. split(Xt.index.values):\n",
    "    X_train = Xt.iloc[train]\n",
    "    y_train = y.iloc[train]\n",
    "    X_test = Xt.iloc[test]\n",
    "    y_test = y.iloc[test]\n",
    "\n",
    "    nb = GaussianNB()\n",
    "    nb.fit(X_train,y_train)\n",
    "\n",
    "    pred_train = nb.predict(X_train)\n",
    "    pred = nb.predict(X_test)\n",
    "    \n",
    "    accuracy_train = []\n",
    "    precision_train = []\n",
    "    ra_train = []\n",
    "    recall_train = []\n",
    "    \n",
    "    accuracy = metrics.accuracy_score(y_train, pred_train)\n",
    "    accuracy_train.append(accuracy)\n",
    "    precision = metrics.precision_score(y_train, pred_train)\n",
    "    precision_train.append(precision)\n",
    "    ra= metrics.roc_auc_score(y_train, pred_train)\n",
    "    ra_train.append(ra)\n",
    "    recall= metrics.recall_score(y_train, pred_train)\n",
    "    recall_train.append(recall)\n",
    "    \n",
    "    accuracy_test = []\n",
    "    precision_test = []\n",
    "    ra_test = []\n",
    "    recall_test = []\n",
    "\n",
    "    accuracy = metrics.accuracy_score(y_test, pred)\n",
    "    accuracy_test.append(accuracy)\n",
    "    precision = metrics.precision_score(y_test, pred)\n",
    "    precision_test.append(precision)\n",
    "    ra= metrics.roc_auc_score(y_test, pred)\n",
    "    ra_test.append(ra)\n",
    "    recall= metrics.recall_score(y_test, pred)\n",
    "    recall_test.append(recall)\n",
    "    \n",
    "printmd('**TRAIN**')\n",
    "print(' Accuracy:',np.mean(accuracy_train),'\\n', 'Precision:', np.mean(precision_train), \n",
    "      '\\n', 'Roc Auc score:', np.mean(ra_train), '\\n', 'Recall:',np.mean(recall_train))\n",
    "\n",
    "printmd('**TEST**')\n",
    "print(' Accuracy:',np.mean(accuracy_test),'\\n', 'Precision:', np.mean(precision_test), \n",
    "      '\\n', 'Roc Auc score:', np.mean(ra_test), '\\n', 'Recall:',np.mean(recall_test))"
   ]
  },
  {
   "cell_type": "code",
   "execution_count": null,
   "metadata": {
    "execution": {
     "iopub.execute_input": "2022-05-16T21:37:27.677404Z",
     "iopub.status.busy": "2022-05-16T21:37:27.677108Z",
     "iopub.status.idle": "2022-05-16T21:37:27.683531Z",
     "shell.execute_reply": "2022-05-16T21:37:27.682550Z",
     "shell.execute_reply.started": "2022-05-16T21:37:27.677374Z"
    },
    "id": "EVq-PKMUR7hE"
   },
   "outputs": [],
   "source": [
    "nb1 = {'TRAIN Accuracy': np.mean(accuracy_train), 'TRAIN Precision': np.mean(precision_train), \n",
    "         'TRAIN ROC AUC': np.mean(ra_train), 'TRAIN Recall': np.mean(recall_train)}\n",
    "nb2 = {'TEST Accuracy': np.mean(accuracy_test), \"TEST Precision\": np.mean(precision_test), \n",
    "        'Test ROC AUC': np.mean(ra_test), 'TEST Recall': np.mean(recall_test)}"
   ]
  },
  {
   "cell_type": "code",
   "execution_count": null,
   "metadata": {
    "execution": {
     "iopub.execute_input": "2022-05-16T21:37:27.690122Z",
     "iopub.status.busy": "2022-05-16T21:37:27.689717Z",
     "iopub.status.idle": "2022-05-16T21:37:27.963329Z",
     "shell.execute_reply": "2022-05-16T21:37:27.962137Z",
     "shell.execute_reply.started": "2022-05-16T21:37:27.690078Z"
    },
    "id": "C3XJgsYNR7hF"
   },
   "outputs": [],
   "source": [
    "from sklearn.metrics import confusion_matrix\n",
    "confusion_matrix = confusion_matrix(y_test, pred)\n",
    "plt.figure(figsize = (8,6))\n",
    "sns.heatmap(confusion_matrix, annot=True, fmt=\"d\")"
   ]
  },
  {
   "cell_type": "code",
   "execution_count": null,
   "metadata": {
    "execution": {
     "iopub.execute_input": "2022-05-16T21:37:27.966049Z",
     "iopub.status.busy": "2022-05-16T21:37:27.965701Z",
     "iopub.status.idle": "2022-05-16T21:37:28.230991Z",
     "shell.execute_reply": "2022-05-16T21:37:28.229775Z",
     "shell.execute_reply.started": "2022-05-16T21:37:27.966016Z"
    },
    "id": "ut-d8K8VR7hF"
   },
   "outputs": [],
   "source": [
    "roc_auc = roc_auc_score(y_test, nb.predict(X_test))\n",
    "fpr, tpr, thresholds = roc_curve(y_test, nb.predict_proba(X_test)[:,1])\n",
    "plt.figure()\n",
    "plt.plot(fpr, tpr, label='Naive Bayes (area = %0.2f)' % roc_auc)\n",
    "plt.plot([0, 1], [0, 1],'r--')\n",
    "plt.xlim([0.0, 1.0])\n",
    "plt.ylim([0.0, 1.05])\n",
    "plt.xlabel('False Positive Rate')\n",
    "plt.ylabel('True Positive Rate')\n",
    "plt.title('Receiver operating characteristic')\n",
    "plt.legend(loc=\"lower right\")\n",
    "plt.savefig('Log_ROC')\n",
    "plt.show()"
   ]
  },
  {
   "cell_type": "markdown",
   "metadata": {},
   "source": [
    "Naive Bayes performed the best so far, however, our scores could also be improved."
   ]
  },
  {
   "cell_type": "code",
   "execution_count": null,
   "metadata": {
    "execution": {
     "iopub.execute_input": "2022-05-16T21:37:28.233111Z",
     "iopub.status.busy": "2022-05-16T21:37:28.232661Z",
     "iopub.status.idle": "2022-05-16T21:37:28.239538Z",
     "shell.execute_reply": "2022-05-16T21:37:28.238245Z",
     "shell.execute_reply.started": "2022-05-16T21:37:28.233067Z"
    },
    "id": "1mAvd7NCR7hF"
   },
   "outputs": [],
   "source": [
    "test_AUC.update( {'Naive Bayes': np.mean(ra_test)} )\n",
    "train_AUC.update( {'Naive Bayes': np.mean(ra_train)} )\n",
    "test_acc.update( {'Naive Bayes': np.mean(accuracy_test)} )\n",
    "train_acc.update( {'Naive Bayes': np.mean(accuracy_train)} )"
   ]
  },
  {
   "cell_type": "markdown",
   "metadata": {
    "id": "vqJkKFoqR7hF"
   },
   "source": [
    "### kNN Classifier"
   ]
  },
  {
   "cell_type": "code",
   "execution_count": null,
   "metadata": {
    "execution": {
     "iopub.execute_input": "2022-05-16T21:37:28.241739Z",
     "iopub.status.busy": "2022-05-16T21:37:28.241303Z",
     "iopub.status.idle": "2022-05-16T21:37:29.991154Z",
     "shell.execute_reply": "2022-05-16T21:37:29.990015Z",
     "shell.execute_reply.started": "2022-05-16T21:37:28.241695Z"
    },
    "id": "tx2e0h-0R7hF"
   },
   "outputs": [],
   "source": [
    "kf = KFold(n_splits = 5, shuffle = True,  random_state=55)\n",
    "\n",
    "for train, test in kf. split(Xn.index.values):\n",
    "    X_train = Xn.iloc[train]\n",
    "    y_train = y.iloc[train]\n",
    "    X_test = Xn.iloc[test]\n",
    "    y_test = y.iloc[test]\n",
    "\n",
    "    clf = KNeighborsClassifier(n_neighbors=25)\n",
    "    clf.fit(X_train,y_train)\n",
    "\n",
    "    pred_train = clf.predict(X_train)\n",
    "    pred = clf.predict(X_test)\n",
    "    \n",
    "    accuracy_train = []\n",
    "    precision_train = []\n",
    "    ra_train = []\n",
    "    recall_train = []\n",
    "    \n",
    "    accuracy = metrics.accuracy_score(y_train, pred_train)\n",
    "    accuracy_train.append(accuracy)\n",
    "    precision = metrics.precision_score(y_train, pred_train)\n",
    "    precision_train.append(precision)\n",
    "    ra= metrics.roc_auc_score(y_train, pred_train)\n",
    "    ra_train.append(ra)\n",
    "    recall= metrics.recall_score(y_train, pred_train)\n",
    "    recall_train.append(recall)\n",
    "    \n",
    "    accuracy_test = []\n",
    "    precision_test = []\n",
    "    ra_test = []\n",
    "    recall_test = []\n",
    "\n",
    "    accuracy = metrics.accuracy_score(y_test, pred)\n",
    "    accuracy_test.append(accuracy)\n",
    "    precision = metrics.precision_score(y_test, pred)\n",
    "    precision_test.append(precision)\n",
    "    ra= metrics.roc_auc_score(y_test, pred)\n",
    "    ra_test.append(ra)\n",
    "    recall= metrics.recall_score(y_test, pred)\n",
    "    recall_test.append(recall)\n",
    "    \n",
    "printmd('**TRAIN**')\n",
    "print(' Accuracy:',np.mean(accuracy_train),'\\n', 'Precision:', np.mean(precision_train), \n",
    "      '\\n', 'Roc Auc score:', np.mean(ra_train), '\\n', 'Recall:',np.mean(recall_train))\n",
    "\n",
    "printmd('**TEST**')\n",
    "print(' Accuracy:',np.mean(accuracy_test),'\\n', 'Precision:', np.mean(precision_test), \n",
    "      '\\n', 'Roc Auc score:', np.mean(ra_test), '\\n', 'Recall:',np.mean(recall_test))"
   ]
  },
  {
   "cell_type": "code",
   "execution_count": null,
   "metadata": {
    "execution": {
     "iopub.execute_input": "2022-05-16T21:37:29.993167Z",
     "iopub.status.busy": "2022-05-16T21:37:29.992732Z",
     "iopub.status.idle": "2022-05-16T21:37:29.999217Z",
     "shell.execute_reply": "2022-05-16T21:37:29.998052Z",
     "shell.execute_reply.started": "2022-05-16T21:37:29.993124Z"
    },
    "id": "qe9rj7X1R7hF"
   },
   "outputs": [],
   "source": [
    "knn1 = {'TRAIN Accuracy': np.mean(accuracy_train), 'TRAIN Precision': np.mean(precision_train), \n",
    "         'TRAIN ROC AUC': np.mean(ra_train), 'TRAIN Recall': np.mean(recall_train)}\n",
    "knn2 = {'TEST Accuracy': np.mean(accuracy_test), \"TEST Precision\": np.mean(precision_test), \n",
    "        'Test ROC AUC': np.mean(ra_test), 'TEST Recall': np.mean(recall_test)}"
   ]
  },
  {
   "cell_type": "code",
   "execution_count": null,
   "metadata": {
    "execution": {
     "iopub.execute_input": "2022-05-16T21:37:30.001121Z",
     "iopub.status.busy": "2022-05-16T21:37:30.000712Z",
     "iopub.status.idle": "2022-05-16T21:37:30.252932Z",
     "shell.execute_reply": "2022-05-16T21:37:30.251964Z",
     "shell.execute_reply.started": "2022-05-16T21:37:30.001082Z"
    },
    "id": "dCfNCPy5R7hG"
   },
   "outputs": [],
   "source": [
    "from sklearn.metrics import confusion_matrix\n",
    "confusion_matrix = confusion_matrix(y_test, pred)\n",
    "plt.figure(figsize = (8,6))\n",
    "sns.heatmap(confusion_matrix, annot=True, fmt=\"d\")"
   ]
  },
  {
   "cell_type": "code",
   "execution_count": null,
   "metadata": {
    "execution": {
     "iopub.execute_input": "2022-05-16T21:37:30.254519Z",
     "iopub.status.busy": "2022-05-16T21:37:30.254232Z",
     "iopub.status.idle": "2022-05-16T21:37:30.556082Z",
     "shell.execute_reply": "2022-05-16T21:37:30.554863Z",
     "shell.execute_reply.started": "2022-05-16T21:37:30.254484Z"
    },
    "id": "tB-C3DKaR7hG",
    "scrolled": true
   },
   "outputs": [],
   "source": [
    "roc_auc = roc_auc_score(y_test, clf.predict(X_test))\n",
    "fpr, tpr, thresholds = roc_curve(y_test, clf.predict_proba(X_test)[:,1])\n",
    "plt.figure()\n",
    "plt.plot(fpr, tpr, label='kNN (area = %0.2f)' % roc_auc)\n",
    "plt.plot([0, 1], [0, 1],'r--')\n",
    "plt.xlim([0.0, 1.0])\n",
    "plt.ylim([0.0, 1.05])\n",
    "plt.xlabel('False Positive Rate')\n",
    "plt.ylabel('True Positive Rate')\n",
    "plt.title('Receiver operating characteristic')\n",
    "plt.legend(loc=\"lower right\")\n",
    "plt.show()"
   ]
  },
  {
   "cell_type": "markdown",
   "metadata": {},
   "source": [
    "The model performs similar to Logistic Regression and Naive Bayes. However, overall our models have low score of accuracy and precision."
   ]
  },
  {
   "cell_type": "code",
   "execution_count": null,
   "metadata": {
    "execution": {
     "iopub.execute_input": "2022-05-16T21:37:30.557609Z",
     "iopub.status.busy": "2022-05-16T21:37:30.557322Z",
     "iopub.status.idle": "2022-05-16T21:37:30.562838Z",
     "shell.execute_reply": "2022-05-16T21:37:30.561875Z",
     "shell.execute_reply.started": "2022-05-16T21:37:30.557576Z"
    },
    "id": "FYlIfs9zR7hG"
   },
   "outputs": [],
   "source": [
    "test_AUC.update( {'kNN': np.mean(ra_test)} )\n",
    "train_AUC.update( {'kNN': np.mean(ra_train)} )\n",
    "test_acc.update( {'kNN': np.mean(accuracy_test)} )\n",
    "train_acc.update( {'kNN': np.mean(accuracy_train)} )"
   ]
  },
  {
   "cell_type": "markdown",
   "metadata": {
    "id": "xEn13PrrR7hG"
   },
   "source": [
    "### Random forest"
   ]
  },
  {
   "cell_type": "code",
   "execution_count": null,
   "metadata": {
    "execution": {
     "iopub.execute_input": "2022-05-16T21:37:30.564359Z",
     "iopub.status.busy": "2022-05-16T21:37:30.564095Z",
     "iopub.status.idle": "2022-05-16T21:37:35.639123Z",
     "shell.execute_reply": "2022-05-16T21:37:35.638120Z",
     "shell.execute_reply.started": "2022-05-16T21:37:30.564333Z"
    },
    "id": "FU2gf-NJR7hG"
   },
   "outputs": [],
   "source": [
    "for train, test in kf. split(Xt.index.values):\n",
    "    X_train = Xt.iloc[train]\n",
    "    y_train = y.iloc[train]\n",
    "    X_test = Xt.iloc[test]\n",
    "    y_test = y.iloc[test]\n",
    "\n",
    "    rf = RandomForestClassifier(n_estimators=200, max_depth=10,random_state=55,n_jobs = -1)\n",
    "    rf.fit(X_train,y_train)\n",
    "\n",
    "    pred_train = rf.predict(X_train)\n",
    "    pred = rf.predict(X_test)\n",
    "    \n",
    "    accuracy_train = []\n",
    "    precision_train = []\n",
    "    ra_train = []\n",
    "    recall_train = []\n",
    "    \n",
    "    accuracy = metrics.accuracy_score(y_train, pred_train)\n",
    "    accuracy_train.append(accuracy)\n",
    "    precision = metrics.precision_score(y_train, pred_train)\n",
    "    precision_train.append(precision)\n",
    "    ra= metrics.roc_auc_score(y_train, pred_train)\n",
    "    ra_train.append(ra)\n",
    "    recall= metrics.recall_score(y_train, pred_train)\n",
    "    recall_train.append(recall)\n",
    "    \n",
    "    accuracy_test = []\n",
    "    precision_test = []\n",
    "    ra_test = []\n",
    "    recall_test = []\n",
    "\n",
    "    accuracy = metrics.accuracy_score(y_test, pred)\n",
    "    accuracy_test.append(accuracy)\n",
    "    precision = metrics.precision_score(y_test, pred)\n",
    "    precision_test.append(precision)\n",
    "    ra= metrics.roc_auc_score(y_test, pred)\n",
    "    ra_test.append(ra)\n",
    "    recall= metrics.recall_score(y_test, pred)\n",
    "    recall_test.append(recall)\n",
    "    \n",
    "printmd('**TRAIN**')\n",
    "print(' Accuracy:',np.mean(accuracy_train),'\\n', 'Precision:', np.mean(precision_train), \n",
    "      '\\n', 'Roc Auc score:', np.mean(ra_train), '\\n', 'Recall:',np.mean(recall_train))\n",
    "\n",
    "printmd('**TEST**')\n",
    "print(' Accuracy:',np.mean(accuracy_test),'\\n', 'Precision:', np.mean(precision_test), \n",
    "      '\\n', 'Roc Auc score:', np.mean(ra_test), '\\n', 'Recall:',np.mean(recall_test))"
   ]
  },
  {
   "cell_type": "code",
   "execution_count": null,
   "metadata": {
    "execution": {
     "iopub.execute_input": "2022-05-16T21:37:35.640692Z",
     "iopub.status.busy": "2022-05-16T21:37:35.640340Z",
     "iopub.status.idle": "2022-05-16T21:37:35.648337Z",
     "shell.execute_reply": "2022-05-16T21:37:35.646690Z",
     "shell.execute_reply.started": "2022-05-16T21:37:35.640660Z"
    },
    "id": "GGI9bAhwR7hG"
   },
   "outputs": [],
   "source": [
    "rf1 = {'TRAIN Accuracy': np.mean(accuracy_train), 'TRAIN Precision': np.mean(precision_train), \n",
    "         'TRAIN ROC AUC': np.mean(ra_train), 'TRAIN Recall': np.mean(recall_train)}\n",
    "rf2 = {'TEST Accuracy': np.mean(accuracy_test), \"TEST Precision\": np.mean(precision_test), \n",
    "        'Test ROC AUC': np.mean(ra_test), 'TEST Recall': np.mean(recall_test)}"
   ]
  },
  {
   "cell_type": "code",
   "execution_count": null,
   "metadata": {
    "execution": {
     "iopub.execute_input": "2022-05-16T21:37:35.649811Z",
     "iopub.status.busy": "2022-05-16T21:37:35.649458Z",
     "iopub.status.idle": "2022-05-16T21:37:35.917981Z",
     "shell.execute_reply": "2022-05-16T21:37:35.916904Z",
     "shell.execute_reply.started": "2022-05-16T21:37:35.649767Z"
    },
    "id": "rVyH4YuqR7hH"
   },
   "outputs": [],
   "source": [
    "from sklearn.metrics import confusion_matrix\n",
    "confusion_matrix = confusion_matrix(y_test, pred)\n",
    "plt.figure(figsize = (8,6))\n",
    "sns.heatmap(confusion_matrix, annot=True, fmt=\"d\")"
   ]
  },
  {
   "cell_type": "markdown",
   "metadata": {},
   "source": [
    "The model performs similarly to the ones above. The area under the curve suggests the cut-off point at around 60% for TP rate and less than 30% for FP rate, which could be promising."
   ]
  },
  {
   "cell_type": "code",
   "execution_count": null,
   "metadata": {
    "execution": {
     "iopub.execute_input": "2022-05-16T21:37:35.919780Z",
     "iopub.status.busy": "2022-05-16T21:37:35.919510Z",
     "iopub.status.idle": "2022-05-16T21:37:36.306419Z",
     "shell.execute_reply": "2022-05-16T21:37:36.305083Z",
     "shell.execute_reply.started": "2022-05-16T21:37:35.919752Z"
    },
    "id": "LcRLF8wAR7hH"
   },
   "outputs": [],
   "source": [
    "logit_roc_auc = roc_auc_score(y_test, rf.predict(X_test))\n",
    "fpr, tpr, thresholds = roc_curve(y_test, rf.predict_proba(X_test)[:,1])\n",
    "plt.figure()\n",
    "plt.plot(fpr, tpr, label='Random forest (area = %0.2f)' % logit_roc_auc)\n",
    "plt.plot([0, 1], [0, 1],'r--')\n",
    "plt.xlim([0.0, 1.0])\n",
    "plt.ylim([0.0, 1.05])\n",
    "plt.xlabel('False Positive Rate')\n",
    "plt.ylabel('True Positive Rate')\n",
    "plt.title('Receiver operating characteristic')\n",
    "plt.legend(loc=\"lower right\")\n",
    "plt.show()"
   ]
  },
  {
   "cell_type": "code",
   "execution_count": null,
   "metadata": {
    "execution": {
     "iopub.execute_input": "2022-05-16T21:37:36.308359Z",
     "iopub.status.busy": "2022-05-16T21:37:36.307952Z",
     "iopub.status.idle": "2022-05-16T21:37:36.314928Z",
     "shell.execute_reply": "2022-05-16T21:37:36.313181Z",
     "shell.execute_reply.started": "2022-05-16T21:37:36.308313Z"
    },
    "id": "sqffMFpvR7hH"
   },
   "outputs": [],
   "source": [
    "test_AUC.update( {'Random forest': np.mean(ra_test)} )\n",
    "train_AUC.update( {'Random forest': np.mean(ra_train)} )\n",
    "test_acc.update( {'Random forest': np.mean(accuracy_test)} )\n",
    "train_acc.update( {'Random forest': np.mean(accuracy_train)} )"
   ]
  },
  {
   "cell_type": "markdown",
   "metadata": {},
   "source": [
    "## Summary of models so far"
   ]
  },
  {
   "cell_type": "code",
   "execution_count": null,
   "metadata": {
    "execution": {
     "iopub.execute_input": "2022-05-16T21:37:36.317244Z",
     "iopub.status.busy": "2022-05-16T21:37:36.316822Z",
     "iopub.status.idle": "2022-05-16T21:37:36.704598Z",
     "shell.execute_reply": "2022-05-16T21:37:36.703620Z",
     "shell.execute_reply.started": "2022-05-16T21:37:36.317202Z"
    },
    "id": "39P_7slkR7hH"
   },
   "outputs": [],
   "source": [
    "figure(num=None, figsize=(8, 5), dpi=80, facecolor='w', edgecolor='k')\n",
    "plt.subplot(1, 2, 1)\n",
    "Xlen = np.arange(len(test_AUC))\n",
    "ax = plt.subplot(111)\n",
    "ax.bar(Xlen, test_AUC.values(), width=0.4, color='black', align='center')\n",
    "ax.bar(Xlen-0.4, train_AUC.values(), width=0.4, color='grey', align='center')\n",
    "ax.legend(('Test','Train'))\n",
    "plt.xticks(Xlen, test_AUC.keys())\n",
    "plt.title(\"AUC\", fontsize=17)\n",
    "plt.show()\n",
    "\n",
    "figure(num=None, figsize=(8, 5), dpi=80, facecolor='w', edgecolor='k')\n",
    "plt.subplot(1, 2, 2)\n",
    "Xlen = np.arange(len(test_acc))\n",
    "ax = plt.subplot(111)\n",
    "ax.bar(Xlen, test_acc.values(), width=0.4, color='black', align='center')\n",
    "ax.bar(Xlen-0.4, train_acc.values(), width=0.4, color='grey', align='center')\n",
    "ax.legend(('Test','Train'))\n",
    "plt.xticks(Xlen, test_acc.keys())\n",
    "plt.title(\"Accuracy\", fontsize=17)\n",
    "plt.show()\n",
    "plt.tight_layout()"
   ]
  },
  {
   "cell_type": "markdown",
   "metadata": {},
   "source": [
    "From the graph, we can see that the Naive Bayes (our est data has better accuracy than train data) and Random Forest perform the best, however Random Forest had precision close to 1 on the train data and quite low score on the test data. We will try to perform the models with GridSearchCV and see whether they improve."
   ]
  },
  {
   "cell_type": "markdown",
   "metadata": {
    "id": "SP5Jokm-R7hH"
   },
   "source": [
    "## Models with GridSearchCV"
   ]
  },
  {
   "cell_type": "markdown",
   "metadata": {
    "id": "15daszElR7hI"
   },
   "source": [
    "### Logistic regression"
   ]
  },
  {
   "cell_type": "code",
   "execution_count": null,
   "metadata": {
    "execution": {
     "iopub.execute_input": "2022-05-16T21:37:36.706296Z",
     "iopub.status.busy": "2022-05-16T21:37:36.705834Z",
     "iopub.status.idle": "2022-05-16T21:37:36.992581Z",
     "shell.execute_reply": "2022-05-16T21:37:36.991291Z",
     "shell.execute_reply.started": "2022-05-16T21:37:36.706260Z"
    },
    "id": "4mHF_64UR7hI"
   },
   "outputs": [],
   "source": [
    "params={\"penalty\":[\"l1\",\"l2\"]}# l1 lasso l2 ridge\n",
    "model = LogisticRegression(random_state=42)\n",
    "grid = RandomizedSearchCV(model,params, cv = 5)\n",
    "grid.fit(X_train, y_train)\n",
    "print(\"tuned hpyerparameters :(best parameters) \",grid.best_params_)\n",
    "print(\"accuracy :\",grid.best_score_)\n",
    "pred_train = grid.predict(X_train)\n",
    "pred = grid.predict(X_test) "
   ]
  },
  {
   "cell_type": "code",
   "execution_count": null,
   "metadata": {
    "execution": {
     "iopub.execute_input": "2022-05-16T21:37:37.001845Z",
     "iopub.status.busy": "2022-05-16T21:37:36.998558Z",
     "iopub.status.idle": "2022-05-16T21:37:37.049896Z",
     "shell.execute_reply": "2022-05-16T21:37:37.048359Z",
     "shell.execute_reply.started": "2022-05-16T21:37:37.001752Z"
    },
    "id": "I7DvTp9rR7hI"
   },
   "outputs": [],
   "source": [
    "printmd('**TRAIN**')\n",
    "print(' Accuracy:',np.mean(metrics.accuracy_score(y_train, pred_train)),'\\n', 'Precision:', np.mean(metrics.precision_score(y_train, pred_train)), \n",
    "      '\\n', 'Roc Auc score:', np.mean(metrics.roc_auc_score(y_train, pred_train)), '\\n', 'Recall:', np.mean(metrics.recall_score(y_train, pred_train)))\n",
    "\n",
    "printmd('**TEST**')\n",
    "print(' Accuracy:',np.mean(metrics.accuracy_score(y_test, pred)),'\\n', 'Precision:', np.mean(metrics.precision_score(y_test, pred)), \n",
    "      '\\n', 'Roc Auc score:', np.mean(metrics.roc_auc_score(y_test, pred)), '\\n', 'Recall:',np.mean(metrics.recall_score(y_test, pred)))"
   ]
  },
  {
   "cell_type": "code",
   "execution_count": null,
   "metadata": {
    "execution": {
     "iopub.execute_input": "2022-05-16T21:37:37.059698Z",
     "iopub.status.busy": "2022-05-16T21:37:37.056513Z",
     "iopub.status.idle": "2022-05-16T21:37:37.092902Z",
     "shell.execute_reply": "2022-05-16T21:37:37.091699Z",
     "shell.execute_reply.started": "2022-05-16T21:37:37.059623Z"
    },
    "id": "ImESGQo2R7hI"
   },
   "outputs": [],
   "source": [
    "lr3 = {'TRAIN Accuracy': np.mean(metrics.accuracy_score(y_train, pred_train)), 'TRAIN Precision': np.mean(metrics.precision_score(y_train, pred_train)), \n",
    "         'TRAIN ROC AUC': np.mean(metrics.roc_auc_score(y_train, pred_train)), 'TRAIN Recall': np.mean(metrics.recall_score(y_train, pred_train))}\n",
    "lr4 = {'TEST Accuracy': np.mean(metrics.accuracy_score(y_test, pred)), \"TEST Precision\": np.mean(metrics.precision_score(y_test, pred)), \n",
    "        'Test ROC AUC': np.mean(metrics.roc_auc_score(y_test, pred)), 'TEST Recall': np.mean(metrics.recall_score(y_test, pred))}"
   ]
  },
  {
   "cell_type": "code",
   "execution_count": null,
   "metadata": {
    "execution": {
     "iopub.execute_input": "2022-05-16T21:37:37.101973Z",
     "iopub.status.busy": "2022-05-16T21:37:37.098846Z",
     "iopub.status.idle": "2022-05-16T21:37:37.358158Z",
     "shell.execute_reply": "2022-05-16T21:37:37.356439Z",
     "shell.execute_reply.started": "2022-05-16T21:37:37.101893Z"
    },
    "id": "bNTn5X9tR7hI"
   },
   "outputs": [],
   "source": [
    "from sklearn.metrics import confusion_matrix\n",
    "confusion_matrix = confusion_matrix(y_test, pred)\n",
    "plt.figure(figsize = (8,6))\n",
    "sns.heatmap(confusion_matrix, annot=True, fmt=\"d\")"
   ]
  },
  {
   "cell_type": "markdown",
   "metadata": {},
   "source": [
    "Again, we get quite low scores (however, above 0.5) for Logistic Regression."
   ]
  },
  {
   "cell_type": "markdown",
   "metadata": {},
   "source": [
    "### Decision tree"
   ]
  },
  {
   "cell_type": "code",
   "execution_count": null,
   "metadata": {
    "execution": {
     "iopub.execute_input": "2022-05-16T21:37:37.359392Z",
     "iopub.status.busy": "2022-05-16T21:37:37.359136Z",
     "iopub.status.idle": "2022-05-16T21:37:38.150879Z",
     "shell.execute_reply": "2022-05-16T21:37:38.149777Z",
     "shell.execute_reply.started": "2022-05-16T21:37:37.359367Z"
    }
   },
   "outputs": [],
   "source": [
    "params = {\n",
    "    'max_depth' : [5,10,15,20]    \n",
    "    }\n",
    "model = DecisionTreeClassifier()\n",
    "grid = RandomizedSearchCV(model,params, cv = 5)\n",
    "grid.fit(X_train, y_train)\n",
    "print(\"tuned hpyerparameters :(best parameters) \",grid.best_params_)\n",
    "print(\"accuracy :\",grid.best_score_)\n",
    "pred_train = grid.predict(X_train)\n",
    "pred = grid.predict(X_test) "
   ]
  },
  {
   "cell_type": "code",
   "execution_count": null,
   "metadata": {
    "execution": {
     "iopub.execute_input": "2022-05-16T21:37:38.153083Z",
     "iopub.status.busy": "2022-05-16T21:37:38.152356Z",
     "iopub.status.idle": "2022-05-16T21:37:38.182371Z",
     "shell.execute_reply": "2022-05-16T21:37:38.181331Z",
     "shell.execute_reply.started": "2022-05-16T21:37:38.153040Z"
    }
   },
   "outputs": [],
   "source": [
    "printmd('**TRAIN**')\n",
    "print(' Accuracy:',np.mean(metrics.accuracy_score(y_train, pred_train)),'\\n', 'Precision:', np.mean(metrics.precision_score(y_train, pred_train)), \n",
    "      '\\n', 'Roc Auc score:', np.mean(metrics.roc_auc_score(y_train, pred_train)), '\\n', 'Recall:', np.mean(metrics.recall_score(y_train, pred_train)))\n",
    "\n",
    "printmd('**TEST**')\n",
    "print(' Accuracy:',np.mean(metrics.accuracy_score(y_test, pred)),'\\n', 'Precision:', np.mean(metrics.precision_score(y_test, pred)), \n",
    "      '\\n', 'Roc Auc score:', np.mean(metrics.roc_auc_score(y_test, pred)), '\\n', 'Recall:',np.mean(metrics.recall_score(y_test, pred)))"
   ]
  },
  {
   "cell_type": "code",
   "execution_count": null,
   "metadata": {
    "execution": {
     "iopub.execute_input": "2022-05-16T21:37:38.184026Z",
     "iopub.status.busy": "2022-05-16T21:37:38.183698Z",
     "iopub.status.idle": "2022-05-16T21:37:38.202680Z",
     "shell.execute_reply": "2022-05-16T21:37:38.201898Z",
     "shell.execute_reply.started": "2022-05-16T21:37:38.183996Z"
    }
   },
   "outputs": [],
   "source": [
    "dt3 = {'TRAIN Accuracy': np.mean(metrics.accuracy_score(y_train, pred_train)), 'TRAIN Precision': np.mean(metrics.precision_score(y_train, pred_train)), \n",
    "         'TRAIN ROC AUC': np.mean(metrics.roc_auc_score(y_train, pred_train)), 'TRAIN Recall': np.mean(metrics.recall_score(y_train, pred_train))}\n",
    "dt4 = {'TEST Accuracy': np.mean(metrics.accuracy_score(y_test, pred)), \"TEST Precision\": np.mean(metrics.precision_score(y_test, pred)), \n",
    "        'Test ROC AUC': np.mean(metrics.roc_auc_score(y_test, pred)), 'TEST Recall': np.mean(metrics.recall_score(y_test, pred))}"
   ]
  },
  {
   "cell_type": "code",
   "execution_count": null,
   "metadata": {
    "execution": {
     "iopub.execute_input": "2022-05-16T21:37:38.204471Z",
     "iopub.status.busy": "2022-05-16T21:37:38.203978Z",
     "iopub.status.idle": "2022-05-16T21:37:38.456853Z",
     "shell.execute_reply": "2022-05-16T21:37:38.455680Z",
     "shell.execute_reply.started": "2022-05-16T21:37:38.204439Z"
    }
   },
   "outputs": [],
   "source": [
    "from sklearn.metrics import confusion_matrix\n",
    "confusion_matrix = confusion_matrix(y_test, pred)\n",
    "plt.figure(figsize = (8,6))\n",
    "sns.heatmap(confusion_matrix, annot=True, fmt=\"d\")"
   ]
  },
  {
   "cell_type": "markdown",
   "metadata": {},
   "source": [
    "The Decision Tree model predicts 0s much better, however, it performs bad at predicting 1s."
   ]
  },
  {
   "cell_type": "markdown",
   "metadata": {},
   "source": [
    "### Random forest"
   ]
  },
  {
   "cell_type": "code",
   "execution_count": null,
   "metadata": {
    "execution": {
     "iopub.execute_input": "2022-05-16T21:37:38.458375Z",
     "iopub.status.busy": "2022-05-16T21:37:38.458098Z",
     "iopub.status.idle": "2022-05-16T21:38:20.007062Z",
     "shell.execute_reply": "2022-05-16T21:38:20.006146Z",
     "shell.execute_reply.started": "2022-05-16T21:37:38.458348Z"
    }
   },
   "outputs": [],
   "source": [
    "kf = KFold(n_splits = 5, shuffle = True,  random_state=100000)\n",
    "param_grid = { \n",
    "    'n_estimators': [100, 200, 300],\n",
    "    'max_depth' : [5,10,15]\n",
    "}\n",
    "model = RandomForestClassifier(random_state=42)\n",
    "grid = RandomizedSearchCV(model,param_grid, cv = 5)\n",
    "grid.fit(X_train, y_train)\n",
    "print(\"tuned hpyerparameters :(best parameters) \",grid.best_params_)\n",
    "print(\"accuracy :\",grid.best_score_)\n",
    "pred_train = grid.predict(X_train)\n",
    "pred = grid.predict(X_test) "
   ]
  },
  {
   "cell_type": "code",
   "execution_count": null,
   "metadata": {
    "execution": {
     "iopub.execute_input": "2022-05-16T21:38:20.008750Z",
     "iopub.status.busy": "2022-05-16T21:38:20.008251Z",
     "iopub.status.idle": "2022-05-16T21:38:20.041259Z",
     "shell.execute_reply": "2022-05-16T21:38:20.040432Z",
     "shell.execute_reply.started": "2022-05-16T21:38:20.008708Z"
    }
   },
   "outputs": [],
   "source": [
    "printmd('**TRAIN**')\n",
    "print(' Accuracy:',np.mean(metrics.accuracy_score(y_train, pred_train)),'\\n', 'Precision:', np.mean(metrics.precision_score(y_train, pred_train)), \n",
    "      '\\n', 'Roc Auc score:', np.mean(metrics.roc_auc_score(y_train, pred_train)), '\\n', 'Recall:', np.mean(metrics.recall_score(y_train, pred_train)))\n",
    "\n",
    "printmd('**TEST**')\n",
    "print(' Accuracy:',np.mean(metrics.accuracy_score(y_test, pred)),'\\n', 'Precision:', np.mean(metrics.precision_score(y_test, pred)), \n",
    "      '\\n', 'Roc Auc score:', np.mean(metrics.roc_auc_score(y_test, pred)), '\\n', 'Recall:',np.mean(metrics.recall_score(y_test, pred)))"
   ]
  },
  {
   "cell_type": "markdown",
   "metadata": {},
   "source": [
    "The results on the train test are incredible for the Random Forest model,however, the scores for test data compare quite poorly compared to them. However, it is still one of our best models yet."
   ]
  },
  {
   "cell_type": "code",
   "execution_count": null,
   "metadata": {
    "execution": {
     "iopub.execute_input": "2022-05-16T21:38:20.043397Z",
     "iopub.status.busy": "2022-05-16T21:38:20.042825Z",
     "iopub.status.idle": "2022-05-16T21:38:20.066450Z",
     "shell.execute_reply": "2022-05-16T21:38:20.065311Z",
     "shell.execute_reply.started": "2022-05-16T21:38:20.043359Z"
    }
   },
   "outputs": [],
   "source": [
    "rf3 = {'TRAIN Accuracy': np.mean(metrics.accuracy_score(y_train, pred_train)), 'TRAIN Precision': np.mean(metrics.precision_score(y_train, pred_train)), \n",
    "         'TRAIN ROC AUC': np.mean(metrics.roc_auc_score(y_train, pred_train)), 'TRAIN Recall': np.mean(metrics.recall_score(y_train, pred_train))}\n",
    "rf4 = {'TEST Accuracy': np.mean(metrics.accuracy_score(y_test, pred)), \"TEST Precision\": np.mean(metrics.precision_score(y_test, pred)), \n",
    "        'Test ROC AUC': np.mean(metrics.roc_auc_score(y_test, pred)), 'TEST Recall': np.mean(metrics.recall_score(y_test, pred))}"
   ]
  },
  {
   "cell_type": "code",
   "execution_count": null,
   "metadata": {
    "execution": {
     "iopub.execute_input": "2022-05-16T21:38:20.068210Z",
     "iopub.status.busy": "2022-05-16T21:38:20.067859Z",
     "iopub.status.idle": "2022-05-16T21:38:20.341940Z",
     "shell.execute_reply": "2022-05-16T21:38:20.340696Z",
     "shell.execute_reply.started": "2022-05-16T21:38:20.068169Z"
    }
   },
   "outputs": [],
   "source": [
    "from sklearn.metrics import confusion_matrix\n",
    "confusion_matrix = confusion_matrix(y_test, pred)\n",
    "plt.figure(figsize = (8,6))\n",
    "sns.heatmap(confusion_matrix, annot=True, fmt=\"d\")"
   ]
  },
  {
   "cell_type": "code",
   "execution_count": null,
   "metadata": {
    "execution": {
     "iopub.execute_input": "2022-05-16T21:38:20.344473Z",
     "iopub.status.busy": "2022-05-16T21:38:20.343803Z",
     "iopub.status.idle": "2022-05-16T21:38:20.356935Z",
     "shell.execute_reply": "2022-05-16T21:38:20.355219Z",
     "shell.execute_reply.started": "2022-05-16T21:38:20.344421Z"
    }
   },
   "outputs": [],
   "source": [
    "import pickle\n",
    "filename = 'Comparison_statistics.pkl'\n",
    "with open('Comparison_statistics.pkl', 'wb') as output:\n",
    "    pickle.dump(lr1, output, pickle.HIGHEST_PROTOCOL)\n",
    "    pickle.dump(lr2, output, pickle.HIGHEST_PROTOCOL)\n",
    "    pickle.dump(nb1, output, pickle.HIGHEST_PROTOCOL)\n",
    "    pickle.dump(nb2, output, pickle.HIGHEST_PROTOCOL)\n",
    "    pickle.dump(knn1, output, pickle.HIGHEST_PROTOCOL)\n",
    "    pickle.dump(knn2, output, pickle.HIGHEST_PROTOCOL)\n",
    "    pickle.dump(dt1, output, pickle.HIGHEST_PROTOCOL)\n",
    "    pickle.dump(dt2, output, pickle.HIGHEST_PROTOCOL)\n",
    "    pickle.dump(rf1, output, pickle.HIGHEST_PROTOCOL)\n",
    "    pickle.dump(rf2, output, pickle.HIGHEST_PROTOCOL)\n",
    "    pickle.dump(lr3, output, pickle.HIGHEST_PROTOCOL)\n",
    "    pickle.dump(lr4, output, pickle.HIGHEST_PROTOCOL)\n",
    "    pickle.dump(dt3, output, pickle.HIGHEST_PROTOCOL)\n",
    "    pickle.dump(dt4, output, pickle.HIGHEST_PROTOCOL)\n",
    "    pickle.dump(rf3, output, pickle.HIGHEST_PROTOCOL)\n",
    "    pickle.dump(rf4, output, pickle.HIGHEST_PROTOCOL)\n"
   ]
  },
  {
   "cell_type": "code",
   "execution_count": null,
   "metadata": {
    "execution": {
     "iopub.execute_input": "2022-05-16T21:38:20.359204Z",
     "iopub.status.busy": "2022-05-16T21:38:20.358755Z",
     "iopub.status.idle": "2022-05-16T21:38:20.378230Z",
     "shell.execute_reply": "2022-05-16T21:38:20.377104Z",
     "shell.execute_reply.started": "2022-05-16T21:38:20.359158Z"
    }
   },
   "outputs": [],
   "source": [
    "with open('Comparison_statistics.pkl', 'rb') as input:\n",
    "    lr1 = pickle.load(input)\n",
    "    lr2 = pickle.load(input)\n",
    "    print(\"Logistic Regression\")\n",
    "    print(lr1) \n",
    "    print(lr2)\n",
    "    nb1 = pickle.load(input)\n",
    "    nb2 = pickle.load(input)\n",
    "    print('Naive Bayes')\n",
    "    print(nb1) \n",
    "    print(nb2)\n",
    "    knn1 = pickle.load(input)\n",
    "    knn2 = pickle.load(input)\n",
    "    print('kNN')\n",
    "    print(knn1) \n",
    "    print(knn2)\n",
    "    dt1 = pickle.load(input)\n",
    "    dt2 = pickle.load(input)\n",
    "    print('Desicion Tree')\n",
    "    print(dt1) \n",
    "    print(dt2)\n",
    "    rf1 = pickle.load(input)\n",
    "    rf2 = pickle.load(input)\n",
    "    print('Random Forest')\n",
    "    print(rf1) \n",
    "    print(rf2)\n",
    "    lr3 = pickle.load(input)\n",
    "    lr4 = pickle.load(input)\n",
    "    print('Logistic regression with grid search')\n",
    "    print(lr3) \n",
    "    print(lr4)\n",
    "    dt3 = pickle.load(input)\n",
    "    dt4 = pickle.load(input)\n",
    "    print('Decision tree with grid search')\n",
    "    print(dt3) \n",
    "    print(dt4)\n",
    "    rf3 = pickle.load(input)\n",
    "    rf4 = pickle.load(input)\n",
    "    print('Random forest with grid search')\n",
    "    print(rf3) \n",
    "    print(rf4)"
   ]
  },
  {
   "cell_type": "markdown",
   "metadata": {},
   "source": [
    "GridSerachCV improved our Logistic Regression model, worsened our Decision Tree model, and improved our Random Forest model."
   ]
  },
  {
   "cell_type": "markdown",
   "metadata": {},
   "source": [
    "## Conclusion"
   ]
  },
  {
   "cell_type": "markdown",
   "metadata": {},
   "source": [
    "At the end, all of our models perform similarly. The results are not highly satisfying, however, the dataset was tricky. There was a large amount of outliers to remove, and the explanatory variables were not highy correlated. At the end, for our testing, we only had around 2000 observations in our dataset. Therefore, taking that into consideration, our models perform quite well. Some deaper feature selection could probably improve our models."
   ]
  }
 ],
 "metadata": {
  "kernelspec": {
   "display_name": "Python 3 (ipykernel)",
   "language": "python",
   "name": "python3"
  },
  "language_info": {
   "codemirror_mode": {
    "name": "ipython",
    "version": 3
   },
   "file_extension": ".py",
   "mimetype": "text/x-python",
   "name": "python",
   "nbconvert_exporter": "python",
   "pygments_lexer": "ipython3",
   "version": "3.9.7"
  }
 },
 "nbformat": 4,
 "nbformat_minor": 4
}
